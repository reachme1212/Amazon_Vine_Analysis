{
 "cells": [
  {
   "cell_type": "code",
   "execution_count": 1,
   "id": "ed211655",
   "metadata": {},
   "outputs": [],
   "source": [
    "#import\n",
    "import pandas as pd\n",
    "import numpy as np"
   ]
  },
  {
   "cell_type": "code",
   "execution_count": 2,
   "id": "79fe82ca",
   "metadata": {},
   "outputs": [],
   "source": [
    "#Filter the \"total_votes\" count is equal to or greater than 20 , avoid having division by zero errors later on.\n",
    "df_vine= pd.read_csv('resources/vine_table.csv', index_col=False)"
   ]
  },
  {
   "cell_type": "code",
   "execution_count": 3,
   "id": "d4ede8dc",
   "metadata": {},
   "outputs": [
    {
     "data": {
      "text/html": [
       "<div>\n",
       "<style scoped>\n",
       "    .dataframe tbody tr th:only-of-type {\n",
       "        vertical-align: middle;\n",
       "    }\n",
       "\n",
       "    .dataframe tbody tr th {\n",
       "        vertical-align: top;\n",
       "    }\n",
       "\n",
       "    .dataframe thead th {\n",
       "        text-align: right;\n",
       "    }\n",
       "</style>\n",
       "<table border=\"1\" class=\"dataframe\">\n",
       "  <thead>\n",
       "    <tr style=\"text-align: right;\">\n",
       "      <th></th>\n",
       "      <th>review_id</th>\n",
       "      <th>star_rating</th>\n",
       "      <th>helpful_votes</th>\n",
       "      <th>total_votes</th>\n",
       "      <th>vine</th>\n",
       "      <th>verified_purchase</th>\n",
       "    </tr>\n",
       "  </thead>\n",
       "  <tbody>\n",
       "    <tr>\n",
       "      <th>0</th>\n",
       "      <td>R1007YJJIFAC9J</td>\n",
       "      <td>5</td>\n",
       "      <td>0</td>\n",
       "      <td>0</td>\n",
       "      <td>N</td>\n",
       "      <td>Y</td>\n",
       "    </tr>\n",
       "    <tr>\n",
       "      <th>1</th>\n",
       "      <td>R100F8VKMH0GML</td>\n",
       "      <td>5</td>\n",
       "      <td>0</td>\n",
       "      <td>0</td>\n",
       "      <td>N</td>\n",
       "      <td>Y</td>\n",
       "    </tr>\n",
       "    <tr>\n",
       "      <th>2</th>\n",
       "      <td>R100MQXHRT2RWR</td>\n",
       "      <td>1</td>\n",
       "      <td>0</td>\n",
       "      <td>0</td>\n",
       "      <td>N</td>\n",
       "      <td>Y</td>\n",
       "    </tr>\n",
       "    <tr>\n",
       "      <th>3</th>\n",
       "      <td>R100Q7Y0SUHCK9</td>\n",
       "      <td>4</td>\n",
       "      <td>0</td>\n",
       "      <td>0</td>\n",
       "      <td>N</td>\n",
       "      <td>N</td>\n",
       "    </tr>\n",
       "    <tr>\n",
       "      <th>4</th>\n",
       "      <td>R100QVXPVZS0DZ</td>\n",
       "      <td>5</td>\n",
       "      <td>0</td>\n",
       "      <td>0</td>\n",
       "      <td>N</td>\n",
       "      <td>Y</td>\n",
       "    </tr>\n",
       "    <tr>\n",
       "      <th>...</th>\n",
       "      <td>...</td>\n",
       "      <td>...</td>\n",
       "      <td>...</td>\n",
       "      <td>...</td>\n",
       "      <td>...</td>\n",
       "      <td>...</td>\n",
       "    </tr>\n",
       "    <tr>\n",
       "      <th>5330696</th>\n",
       "      <td>RZZ16EL59OVU</td>\n",
       "      <td>5</td>\n",
       "      <td>263</td>\n",
       "      <td>269</td>\n",
       "      <td>N</td>\n",
       "      <td>N</td>\n",
       "    </tr>\n",
       "    <tr>\n",
       "      <th>5330697</th>\n",
       "      <td>RZZ6F0AZ0IJ91</td>\n",
       "      <td>5</td>\n",
       "      <td>0</td>\n",
       "      <td>0</td>\n",
       "      <td>N</td>\n",
       "      <td>Y</td>\n",
       "    </tr>\n",
       "    <tr>\n",
       "      <th>5330698</th>\n",
       "      <td>RZZ934F7HW60X</td>\n",
       "      <td>3</td>\n",
       "      <td>15</td>\n",
       "      <td>17</td>\n",
       "      <td>N</td>\n",
       "      <td>Y</td>\n",
       "    </tr>\n",
       "    <tr>\n",
       "      <th>5330699</th>\n",
       "      <td>RZZ9Y3OZQWW1U</td>\n",
       "      <td>5</td>\n",
       "      <td>0</td>\n",
       "      <td>0</td>\n",
       "      <td>N</td>\n",
       "      <td>Y</td>\n",
       "    </tr>\n",
       "    <tr>\n",
       "      <th>5330700</th>\n",
       "      <td>RZZC8DEOIXIO6</td>\n",
       "      <td>1</td>\n",
       "      <td>1</td>\n",
       "      <td>7</td>\n",
       "      <td>N</td>\n",
       "      <td>Y</td>\n",
       "    </tr>\n",
       "  </tbody>\n",
       "</table>\n",
       "<p>5330701 rows × 6 columns</p>\n",
       "</div>"
      ],
      "text/plain": [
       "              review_id  star_rating  helpful_votes  total_votes vine  \\\n",
       "0        R1007YJJIFAC9J            5              0            0    N   \n",
       "1        R100F8VKMH0GML            5              0            0    N   \n",
       "2        R100MQXHRT2RWR            1              0            0    N   \n",
       "3        R100Q7Y0SUHCK9            4              0            0    N   \n",
       "4        R100QVXPVZS0DZ            5              0            0    N   \n",
       "...                 ...          ...            ...          ...  ...   \n",
       "5330696    RZZ16EL59OVU            5            263          269    N   \n",
       "5330697   RZZ6F0AZ0IJ91            5              0            0    N   \n",
       "5330698   RZZ934F7HW60X            3             15           17    N   \n",
       "5330699   RZZ9Y3OZQWW1U            5              0            0    N   \n",
       "5330700   RZZC8DEOIXIO6            1              1            7    N   \n",
       "\n",
       "        verified_purchase  \n",
       "0                       Y  \n",
       "1                       Y  \n",
       "2                       Y  \n",
       "3                       N  \n",
       "4                       Y  \n",
       "...                   ...  \n",
       "5330696                 N  \n",
       "5330697                 Y  \n",
       "5330698                 Y  \n",
       "5330699                 Y  \n",
       "5330700                 Y  \n",
       "\n",
       "[5330701 rows x 6 columns]"
      ]
     },
     "execution_count": 3,
     "metadata": {},
     "output_type": "execute_result"
    }
   ],
   "source": [
    "df_vine.dropna(how=\"any\")"
   ]
  },
  {
   "cell_type": "code",
   "execution_count": 4,
   "id": "55bf68fe",
   "metadata": {},
   "outputs": [
    {
     "data": {
      "text/html": [
       "<div>\n",
       "<style scoped>\n",
       "    .dataframe tbody tr th:only-of-type {\n",
       "        vertical-align: middle;\n",
       "    }\n",
       "\n",
       "    .dataframe tbody tr th {\n",
       "        vertical-align: top;\n",
       "    }\n",
       "\n",
       "    .dataframe thead th {\n",
       "        text-align: right;\n",
       "    }\n",
       "</style>\n",
       "<table border=\"1\" class=\"dataframe\">\n",
       "  <thead>\n",
       "    <tr style=\"text-align: right;\">\n",
       "      <th></th>\n",
       "      <th>review_id</th>\n",
       "      <th>star_rating</th>\n",
       "      <th>helpful_votes</th>\n",
       "      <th>total_votes</th>\n",
       "      <th>vine</th>\n",
       "      <th>verified_purchase</th>\n",
       "    </tr>\n",
       "  </thead>\n",
       "  <tbody>\n",
       "    <tr>\n",
       "      <th>0</th>\n",
       "      <td>R1007YJJIFAC9J</td>\n",
       "      <td>5</td>\n",
       "      <td>0</td>\n",
       "      <td>0</td>\n",
       "      <td>N</td>\n",
       "      <td>Y</td>\n",
       "    </tr>\n",
       "    <tr>\n",
       "      <th>1</th>\n",
       "      <td>R100F8VKMH0GML</td>\n",
       "      <td>5</td>\n",
       "      <td>0</td>\n",
       "      <td>0</td>\n",
       "      <td>N</td>\n",
       "      <td>Y</td>\n",
       "    </tr>\n",
       "    <tr>\n",
       "      <th>2</th>\n",
       "      <td>R100MQXHRT2RWR</td>\n",
       "      <td>1</td>\n",
       "      <td>0</td>\n",
       "      <td>0</td>\n",
       "      <td>N</td>\n",
       "      <td>Y</td>\n",
       "    </tr>\n",
       "    <tr>\n",
       "      <th>3</th>\n",
       "      <td>R100Q7Y0SUHCK9</td>\n",
       "      <td>4</td>\n",
       "      <td>0</td>\n",
       "      <td>0</td>\n",
       "      <td>N</td>\n",
       "      <td>N</td>\n",
       "    </tr>\n",
       "    <tr>\n",
       "      <th>4</th>\n",
       "      <td>R100QVXPVZS0DZ</td>\n",
       "      <td>5</td>\n",
       "      <td>0</td>\n",
       "      <td>0</td>\n",
       "      <td>N</td>\n",
       "      <td>Y</td>\n",
       "    </tr>\n",
       "  </tbody>\n",
       "</table>\n",
       "</div>"
      ],
      "text/plain": [
       "        review_id  star_rating  helpful_votes  total_votes vine  \\\n",
       "0  R1007YJJIFAC9J            5              0            0    N   \n",
       "1  R100F8VKMH0GML            5              0            0    N   \n",
       "2  R100MQXHRT2RWR            1              0            0    N   \n",
       "3  R100Q7Y0SUHCK9            4              0            0    N   \n",
       "4  R100QVXPVZS0DZ            5              0            0    N   \n",
       "\n",
       "  verified_purchase  \n",
       "0                 Y  \n",
       "1                 Y  \n",
       "2                 Y  \n",
       "3                 N  \n",
       "4                 Y  "
      ]
     },
     "execution_count": 4,
     "metadata": {},
     "output_type": "execute_result"
    }
   ],
   "source": [
    "df_vine.head(5)"
   ]
  },
  {
   "cell_type": "code",
   "execution_count": 5,
   "id": "dbb86a28",
   "metadata": {},
   "outputs": [
    {
     "data": {
      "text/plain": [
       "review_id            object\n",
       "star_rating           int64\n",
       "helpful_votes         int64\n",
       "total_votes           int64\n",
       "vine                 object\n",
       "verified_purchase    object\n",
       "dtype: object"
      ]
     },
     "execution_count": 5,
     "metadata": {},
     "output_type": "execute_result"
    }
   ],
   "source": [
    "df_vine.dtypes"
   ]
  },
  {
   "cell_type": "code",
   "execution_count": 6,
   "id": "a11342fa",
   "metadata": {},
   "outputs": [],
   "source": [
    "df_vine_clean = df_vine[(df_vine['total_votes']>=20)]"
   ]
  },
  {
   "cell_type": "code",
   "execution_count": 7,
   "id": "8edd47e8",
   "metadata": {},
   "outputs": [
    {
     "data": {
      "text/html": [
       "<div>\n",
       "<style scoped>\n",
       "    .dataframe tbody tr th:only-of-type {\n",
       "        vertical-align: middle;\n",
       "    }\n",
       "\n",
       "    .dataframe tbody tr th {\n",
       "        vertical-align: top;\n",
       "    }\n",
       "\n",
       "    .dataframe thead th {\n",
       "        text-align: right;\n",
       "    }\n",
       "</style>\n",
       "<table border=\"1\" class=\"dataframe\">\n",
       "  <thead>\n",
       "    <tr style=\"text-align: right;\">\n",
       "      <th></th>\n",
       "      <th>review_id</th>\n",
       "      <th>star_rating</th>\n",
       "      <th>helpful_votes</th>\n",
       "      <th>total_votes</th>\n",
       "      <th>vine</th>\n",
       "      <th>verified_purchase</th>\n",
       "    </tr>\n",
       "  </thead>\n",
       "  <tbody>\n",
       "    <tr>\n",
       "      <th>53</th>\n",
       "      <td>R10A7V8JORM909</td>\n",
       "      <td>1</td>\n",
       "      <td>18</td>\n",
       "      <td>38</td>\n",
       "      <td>N</td>\n",
       "      <td>Y</td>\n",
       "    </tr>\n",
       "    <tr>\n",
       "      <th>99</th>\n",
       "      <td>R10H9GP2OV0G70</td>\n",
       "      <td>5</td>\n",
       "      <td>46</td>\n",
       "      <td>46</td>\n",
       "      <td>N</td>\n",
       "      <td>Y</td>\n",
       "    </tr>\n",
       "    <tr>\n",
       "      <th>116</th>\n",
       "      <td>R10K4ODD3K8SK1</td>\n",
       "      <td>2</td>\n",
       "      <td>36</td>\n",
       "      <td>49</td>\n",
       "      <td>N</td>\n",
       "      <td>N</td>\n",
       "    </tr>\n",
       "    <tr>\n",
       "      <th>207</th>\n",
       "      <td>R113D9FLRSOB1T</td>\n",
       "      <td>5</td>\n",
       "      <td>71</td>\n",
       "      <td>83</td>\n",
       "      <td>N</td>\n",
       "      <td>Y</td>\n",
       "    </tr>\n",
       "    <tr>\n",
       "      <th>242</th>\n",
       "      <td>R11ARMUBPZYS</td>\n",
       "      <td>4</td>\n",
       "      <td>15</td>\n",
       "      <td>22</td>\n",
       "      <td>N</td>\n",
       "      <td>Y</td>\n",
       "    </tr>\n",
       "  </tbody>\n",
       "</table>\n",
       "</div>"
      ],
      "text/plain": [
       "          review_id  star_rating  helpful_votes  total_votes vine  \\\n",
       "53   R10A7V8JORM909            1             18           38    N   \n",
       "99   R10H9GP2OV0G70            5             46           46    N   \n",
       "116  R10K4ODD3K8SK1            2             36           49    N   \n",
       "207  R113D9FLRSOB1T            5             71           83    N   \n",
       "242    R11ARMUBPZYS            4             15           22    N   \n",
       "\n",
       "    verified_purchase  \n",
       "53                  Y  \n",
       "99                  Y  \n",
       "116                 N  \n",
       "207                 Y  \n",
       "242                 Y  "
      ]
     },
     "execution_count": 7,
     "metadata": {},
     "output_type": "execute_result"
    }
   ],
   "source": [
    "df_vine_clean.head(5)"
   ]
  },
  {
   "cell_type": "code",
   "execution_count": 8,
   "id": "f9492c4a",
   "metadata": {},
   "outputs": [
    {
     "name": "stderr",
     "output_type": "stream",
     "text": [
      "<ipython-input-8-5da88f9c173c>:3: SettingWithCopyWarning: \n",
      "A value is trying to be set on a copy of a slice from a DataFrame.\n",
      "Try using .loc[row_indexer,col_indexer] = value instead\n",
      "\n",
      "See the caveats in the documentation: https://pandas.pydata.org/pandas-docs/stable/user_guide/indexing.html#returning-a-view-versus-a-copy\n",
      "  df_vine_clean[\"%votes\"] = (df_vine[\"helpful_votes\"]/df_vine[\"total_votes\"])\n"
     ]
    }
   ],
   "source": [
    "#Filter the new DataFrame or table created and create a new DataFrame or table to retrieve all the rows \n",
    "#where the number of helpful_votes divided by total_votes is equal to or greater than 50%.\n",
    "df_vine_clean[\"%votes\"] = (df_vine[\"helpful_votes\"]/df_vine[\"total_votes\"])\n"
   ]
  },
  {
   "cell_type": "code",
   "execution_count": 9,
   "id": "4d415212",
   "metadata": {},
   "outputs": [
    {
     "data": {
      "text/html": [
       "<div>\n",
       "<style scoped>\n",
       "    .dataframe tbody tr th:only-of-type {\n",
       "        vertical-align: middle;\n",
       "    }\n",
       "\n",
       "    .dataframe tbody tr th {\n",
       "        vertical-align: top;\n",
       "    }\n",
       "\n",
       "    .dataframe thead th {\n",
       "        text-align: right;\n",
       "    }\n",
       "</style>\n",
       "<table border=\"1\" class=\"dataframe\">\n",
       "  <thead>\n",
       "    <tr style=\"text-align: right;\">\n",
       "      <th></th>\n",
       "      <th>review_id</th>\n",
       "      <th>star_rating</th>\n",
       "      <th>helpful_votes</th>\n",
       "      <th>total_votes</th>\n",
       "      <th>vine</th>\n",
       "      <th>verified_purchase</th>\n",
       "      <th>%votes</th>\n",
       "    </tr>\n",
       "  </thead>\n",
       "  <tbody>\n",
       "    <tr>\n",
       "      <th>53</th>\n",
       "      <td>R10A7V8JORM909</td>\n",
       "      <td>1</td>\n",
       "      <td>18</td>\n",
       "      <td>38</td>\n",
       "      <td>N</td>\n",
       "      <td>Y</td>\n",
       "      <td>0.473684</td>\n",
       "    </tr>\n",
       "    <tr>\n",
       "      <th>99</th>\n",
       "      <td>R10H9GP2OV0G70</td>\n",
       "      <td>5</td>\n",
       "      <td>46</td>\n",
       "      <td>46</td>\n",
       "      <td>N</td>\n",
       "      <td>Y</td>\n",
       "      <td>1.000000</td>\n",
       "    </tr>\n",
       "    <tr>\n",
       "      <th>116</th>\n",
       "      <td>R10K4ODD3K8SK1</td>\n",
       "      <td>2</td>\n",
       "      <td>36</td>\n",
       "      <td>49</td>\n",
       "      <td>N</td>\n",
       "      <td>N</td>\n",
       "      <td>0.734694</td>\n",
       "    </tr>\n",
       "    <tr>\n",
       "      <th>207</th>\n",
       "      <td>R113D9FLRSOB1T</td>\n",
       "      <td>5</td>\n",
       "      <td>71</td>\n",
       "      <td>83</td>\n",
       "      <td>N</td>\n",
       "      <td>Y</td>\n",
       "      <td>0.855422</td>\n",
       "    </tr>\n",
       "    <tr>\n",
       "      <th>242</th>\n",
       "      <td>R11ARMUBPZYS</td>\n",
       "      <td>4</td>\n",
       "      <td>15</td>\n",
       "      <td>22</td>\n",
       "      <td>N</td>\n",
       "      <td>Y</td>\n",
       "      <td>0.681818</td>\n",
       "    </tr>\n",
       "  </tbody>\n",
       "</table>\n",
       "</div>"
      ],
      "text/plain": [
       "          review_id  star_rating  helpful_votes  total_votes vine  \\\n",
       "53   R10A7V8JORM909            1             18           38    N   \n",
       "99   R10H9GP2OV0G70            5             46           46    N   \n",
       "116  R10K4ODD3K8SK1            2             36           49    N   \n",
       "207  R113D9FLRSOB1T            5             71           83    N   \n",
       "242    R11ARMUBPZYS            4             15           22    N   \n",
       "\n",
       "    verified_purchase    %votes  \n",
       "53                  Y  0.473684  \n",
       "99                  Y  1.000000  \n",
       "116                 N  0.734694  \n",
       "207                 Y  0.855422  \n",
       "242                 Y  0.681818  "
      ]
     },
     "execution_count": 9,
     "metadata": {},
     "output_type": "execute_result"
    }
   ],
   "source": [
    "df_vine_clean.head(5)"
   ]
  },
  {
   "cell_type": "code",
   "execution_count": 10,
   "id": "5dfc2b47",
   "metadata": {},
   "outputs": [
    {
     "data": {
      "text/plain": [
       "review_id             object\n",
       "star_rating            int64\n",
       "helpful_votes          int64\n",
       "total_votes            int64\n",
       "vine                  object\n",
       "verified_purchase     object\n",
       "%votes               float64\n",
       "dtype: object"
      ]
     },
     "execution_count": 10,
     "metadata": {},
     "output_type": "execute_result"
    }
   ],
   "source": [
    "df_vine_clean.dtypes"
   ]
  },
  {
   "cell_type": "code",
   "execution_count": 11,
   "id": "a3b67afb",
   "metadata": {},
   "outputs": [],
   "source": [
    "df_vine_greater_than_50 = df_vine_clean[(df_vine_clean[\"%votes\"]) >= 0.5]"
   ]
  },
  {
   "cell_type": "code",
   "execution_count": 12,
   "id": "71f5d920",
   "metadata": {},
   "outputs": [
    {
     "data": {
      "text/html": [
       "<div>\n",
       "<style scoped>\n",
       "    .dataframe tbody tr th:only-of-type {\n",
       "        vertical-align: middle;\n",
       "    }\n",
       "\n",
       "    .dataframe tbody tr th {\n",
       "        vertical-align: top;\n",
       "    }\n",
       "\n",
       "    .dataframe thead th {\n",
       "        text-align: right;\n",
       "    }\n",
       "</style>\n",
       "<table border=\"1\" class=\"dataframe\">\n",
       "  <thead>\n",
       "    <tr style=\"text-align: right;\">\n",
       "      <th></th>\n",
       "      <th>review_id</th>\n",
       "      <th>star_rating</th>\n",
       "      <th>helpful_votes</th>\n",
       "      <th>total_votes</th>\n",
       "      <th>vine</th>\n",
       "      <th>verified_purchase</th>\n",
       "      <th>%votes</th>\n",
       "    </tr>\n",
       "  </thead>\n",
       "  <tbody>\n",
       "    <tr>\n",
       "      <th>99</th>\n",
       "      <td>R10H9GP2OV0G70</td>\n",
       "      <td>5</td>\n",
       "      <td>46</td>\n",
       "      <td>46</td>\n",
       "      <td>N</td>\n",
       "      <td>Y</td>\n",
       "      <td>1.000000</td>\n",
       "    </tr>\n",
       "    <tr>\n",
       "      <th>116</th>\n",
       "      <td>R10K4ODD3K8SK1</td>\n",
       "      <td>2</td>\n",
       "      <td>36</td>\n",
       "      <td>49</td>\n",
       "      <td>N</td>\n",
       "      <td>N</td>\n",
       "      <td>0.734694</td>\n",
       "    </tr>\n",
       "    <tr>\n",
       "      <th>207</th>\n",
       "      <td>R113D9FLRSOB1T</td>\n",
       "      <td>5</td>\n",
       "      <td>71</td>\n",
       "      <td>83</td>\n",
       "      <td>N</td>\n",
       "      <td>Y</td>\n",
       "      <td>0.855422</td>\n",
       "    </tr>\n",
       "    <tr>\n",
       "      <th>242</th>\n",
       "      <td>R11ARMUBPZYS</td>\n",
       "      <td>4</td>\n",
       "      <td>15</td>\n",
       "      <td>22</td>\n",
       "      <td>N</td>\n",
       "      <td>Y</td>\n",
       "      <td>0.681818</td>\n",
       "    </tr>\n",
       "    <tr>\n",
       "      <th>244</th>\n",
       "      <td>R11BD8M9OCPVM2</td>\n",
       "      <td>1</td>\n",
       "      <td>15</td>\n",
       "      <td>24</td>\n",
       "      <td>N</td>\n",
       "      <td>N</td>\n",
       "      <td>0.625000</td>\n",
       "    </tr>\n",
       "  </tbody>\n",
       "</table>\n",
       "</div>"
      ],
      "text/plain": [
       "          review_id  star_rating  helpful_votes  total_votes vine  \\\n",
       "99   R10H9GP2OV0G70            5             46           46    N   \n",
       "116  R10K4ODD3K8SK1            2             36           49    N   \n",
       "207  R113D9FLRSOB1T            5             71           83    N   \n",
       "242    R11ARMUBPZYS            4             15           22    N   \n",
       "244  R11BD8M9OCPVM2            1             15           24    N   \n",
       "\n",
       "    verified_purchase    %votes  \n",
       "99                  Y  1.000000  \n",
       "116                 N  0.734694  \n",
       "207                 Y  0.855422  \n",
       "242                 Y  0.681818  \n",
       "244                 N  0.625000  "
      ]
     },
     "execution_count": 12,
     "metadata": {},
     "output_type": "execute_result"
    }
   ],
   "source": [
    "df_vine_greater_than_50.head(5)"
   ]
  },
  {
   "cell_type": "code",
   "execution_count": 13,
   "id": "d8af87fb",
   "metadata": {},
   "outputs": [
    {
     "data": {
      "text/plain": [
       "review_id             object\n",
       "star_rating            int64\n",
       "helpful_votes          int64\n",
       "total_votes            int64\n",
       "vine                  object\n",
       "verified_purchase     object\n",
       "%votes               float64\n",
       "dtype: object"
      ]
     },
     "execution_count": 13,
     "metadata": {},
     "output_type": "execute_result"
    }
   ],
   "source": [
    "df_vine_greater_than_50.dtypes"
   ]
  },
  {
   "cell_type": "code",
   "execution_count": 14,
   "id": "b5028a28",
   "metadata": {},
   "outputs": [
    {
     "data": {
      "text/html": [
       "<div>\n",
       "<style scoped>\n",
       "    .dataframe tbody tr th:only-of-type {\n",
       "        vertical-align: middle;\n",
       "    }\n",
       "\n",
       "    .dataframe tbody tr th {\n",
       "        vertical-align: top;\n",
       "    }\n",
       "\n",
       "    .dataframe thead th {\n",
       "        text-align: right;\n",
       "    }\n",
       "</style>\n",
       "<table border=\"1\" class=\"dataframe\">\n",
       "  <thead>\n",
       "    <tr style=\"text-align: right;\">\n",
       "      <th></th>\n",
       "      <th>review_id</th>\n",
       "      <th>star_rating</th>\n",
       "      <th>helpful_votes</th>\n",
       "      <th>total_votes</th>\n",
       "      <th>vine</th>\n",
       "      <th>verified_purchase</th>\n",
       "      <th>%votes</th>\n",
       "    </tr>\n",
       "  </thead>\n",
       "  <tbody>\n",
       "    <tr>\n",
       "      <th>1435</th>\n",
       "      <td>R14L8ATV3844Q6</td>\n",
       "      <td>5</td>\n",
       "      <td>18</td>\n",
       "      <td>21</td>\n",
       "      <td>Y</td>\n",
       "      <td>Y</td>\n",
       "      <td>0.857143</td>\n",
       "    </tr>\n",
       "    <tr>\n",
       "      <th>2003</th>\n",
       "      <td>R166C96XRN62DF</td>\n",
       "      <td>5</td>\n",
       "      <td>135</td>\n",
       "      <td>142</td>\n",
       "      <td>Y</td>\n",
       "      <td>N</td>\n",
       "      <td>0.950704</td>\n",
       "    </tr>\n",
       "    <tr>\n",
       "      <th>13519</th>\n",
       "      <td>R20AY3XICZFS7I</td>\n",
       "      <td>4</td>\n",
       "      <td>28</td>\n",
       "      <td>30</td>\n",
       "      <td>Y</td>\n",
       "      <td>N</td>\n",
       "      <td>0.933333</td>\n",
       "    </tr>\n",
       "    <tr>\n",
       "      <th>31656</th>\n",
       "      <td>R3B5S3OSA8N6AO</td>\n",
       "      <td>5</td>\n",
       "      <td>38</td>\n",
       "      <td>43</td>\n",
       "      <td>Y</td>\n",
       "      <td>N</td>\n",
       "      <td>0.883721</td>\n",
       "    </tr>\n",
       "    <tr>\n",
       "      <th>55313</th>\n",
       "      <td>R16BNZYYOS16XE</td>\n",
       "      <td>5</td>\n",
       "      <td>175</td>\n",
       "      <td>192</td>\n",
       "      <td>Y</td>\n",
       "      <td>N</td>\n",
       "      <td>0.911458</td>\n",
       "    </tr>\n",
       "  </tbody>\n",
       "</table>\n",
       "</div>"
      ],
      "text/plain": [
       "            review_id  star_rating  helpful_votes  total_votes vine  \\\n",
       "1435   R14L8ATV3844Q6            5             18           21    Y   \n",
       "2003   R166C96XRN62DF            5            135          142    Y   \n",
       "13519  R20AY3XICZFS7I            4             28           30    Y   \n",
       "31656  R3B5S3OSA8N6AO            5             38           43    Y   \n",
       "55313  R16BNZYYOS16XE            5            175          192    Y   \n",
       "\n",
       "      verified_purchase    %votes  \n",
       "1435                  Y  0.857143  \n",
       "2003                  N  0.950704  \n",
       "13519                 N  0.933333  \n",
       "31656                 N  0.883721  \n",
       "55313                 N  0.911458  "
      ]
     },
     "execution_count": 14,
     "metadata": {},
     "output_type": "execute_result"
    }
   ],
   "source": [
    "#Filter the DataFrame or table created in Step 2, and create a new DataFrame or table that retrieves all the rows \n",
    "#where a review was written as part of the Vine program (paid), vine == 'Y'.\n",
    "#df_vine_paid =df_vine_50[df_vine_50[\"vine\"]==\"Y\"]\n",
    "\n",
    "df_vine_paid = df_vine_greater_than_50[df_vine_greater_than_50[\"vine\"]=='Y']\n",
    "df_vine_paid.head(5)"
   ]
  },
  {
   "cell_type": "code",
   "execution_count": 15,
   "id": "a333baa4",
   "metadata": {},
   "outputs": [
    {
     "data": {
      "text/html": [
       "<div>\n",
       "<style scoped>\n",
       "    .dataframe tbody tr th:only-of-type {\n",
       "        vertical-align: middle;\n",
       "    }\n",
       "\n",
       "    .dataframe tbody tr th {\n",
       "        vertical-align: top;\n",
       "    }\n",
       "\n",
       "    .dataframe thead th {\n",
       "        text-align: right;\n",
       "    }\n",
       "</style>\n",
       "<table border=\"1\" class=\"dataframe\">\n",
       "  <thead>\n",
       "    <tr style=\"text-align: right;\">\n",
       "      <th></th>\n",
       "      <th>review_id</th>\n",
       "      <th>star_rating</th>\n",
       "      <th>helpful_votes</th>\n",
       "      <th>total_votes</th>\n",
       "      <th>vine</th>\n",
       "      <th>verified_purchase</th>\n",
       "      <th>%votes</th>\n",
       "    </tr>\n",
       "  </thead>\n",
       "  <tbody>\n",
       "    <tr>\n",
       "      <th>99</th>\n",
       "      <td>R10H9GP2OV0G70</td>\n",
       "      <td>5</td>\n",
       "      <td>46</td>\n",
       "      <td>46</td>\n",
       "      <td>N</td>\n",
       "      <td>Y</td>\n",
       "      <td>1.000000</td>\n",
       "    </tr>\n",
       "    <tr>\n",
       "      <th>116</th>\n",
       "      <td>R10K4ODD3K8SK1</td>\n",
       "      <td>2</td>\n",
       "      <td>36</td>\n",
       "      <td>49</td>\n",
       "      <td>N</td>\n",
       "      <td>N</td>\n",
       "      <td>0.734694</td>\n",
       "    </tr>\n",
       "    <tr>\n",
       "      <th>207</th>\n",
       "      <td>R113D9FLRSOB1T</td>\n",
       "      <td>5</td>\n",
       "      <td>71</td>\n",
       "      <td>83</td>\n",
       "      <td>N</td>\n",
       "      <td>Y</td>\n",
       "      <td>0.855422</td>\n",
       "    </tr>\n",
       "    <tr>\n",
       "      <th>242</th>\n",
       "      <td>R11ARMUBPZYS</td>\n",
       "      <td>4</td>\n",
       "      <td>15</td>\n",
       "      <td>22</td>\n",
       "      <td>N</td>\n",
       "      <td>Y</td>\n",
       "      <td>0.681818</td>\n",
       "    </tr>\n",
       "    <tr>\n",
       "      <th>244</th>\n",
       "      <td>R11BD8M9OCPVM2</td>\n",
       "      <td>1</td>\n",
       "      <td>15</td>\n",
       "      <td>24</td>\n",
       "      <td>N</td>\n",
       "      <td>N</td>\n",
       "      <td>0.625000</td>\n",
       "    </tr>\n",
       "  </tbody>\n",
       "</table>\n",
       "</div>"
      ],
      "text/plain": [
       "          review_id  star_rating  helpful_votes  total_votes vine  \\\n",
       "99   R10H9GP2OV0G70            5             46           46    N   \n",
       "116  R10K4ODD3K8SK1            2             36           49    N   \n",
       "207  R113D9FLRSOB1T            5             71           83    N   \n",
       "242    R11ARMUBPZYS            4             15           22    N   \n",
       "244  R11BD8M9OCPVM2            1             15           24    N   \n",
       "\n",
       "    verified_purchase    %votes  \n",
       "99                  Y  1.000000  \n",
       "116                 N  0.734694  \n",
       "207                 Y  0.855422  \n",
       "242                 Y  0.681818  \n",
       "244                 N  0.625000  "
      ]
     },
     "execution_count": 15,
     "metadata": {},
     "output_type": "execute_result"
    }
   ],
   "source": [
    "#Repeat Step 3, but this time retrieve all the rows \n",
    "#where the review was not part of the Vine program (unpaid), vine == 'N'.\n",
    "df_vine_unpaid = df_vine_greater_than_50[df_vine_greater_than_50[\"vine\"]=='N']\n",
    "df_vine_unpaid.head(5)"
   ]
  },
  {
   "cell_type": "code",
   "execution_count": 17,
   "id": "a8afdb82",
   "metadata": {},
   "outputs": [
    {
     "data": {
      "text/html": [
       "<div>\n",
       "<style scoped>\n",
       "    .dataframe tbody tr th:only-of-type {\n",
       "        vertical-align: middle;\n",
       "    }\n",
       "\n",
       "    .dataframe tbody tr th {\n",
       "        vertical-align: top;\n",
       "    }\n",
       "\n",
       "    .dataframe thead th {\n",
       "        text-align: right;\n",
       "    }\n",
       "</style>\n",
       "<table border=\"1\" class=\"dataframe\">\n",
       "  <thead>\n",
       "    <tr style=\"text-align: right;\">\n",
       "      <th></th>\n",
       "      <th>review_id</th>\n",
       "      <th>star_rating</th>\n",
       "      <th>helpful_votes</th>\n",
       "      <th>total_votes</th>\n",
       "      <th>vine</th>\n",
       "      <th>verified_purchase</th>\n",
       "      <th>%votes</th>\n",
       "    </tr>\n",
       "  </thead>\n",
       "  <tbody>\n",
       "    <tr>\n",
       "      <th>1435</th>\n",
       "      <td>R14L8ATV3844Q6</td>\n",
       "      <td>5</td>\n",
       "      <td>18</td>\n",
       "      <td>21</td>\n",
       "      <td>Y</td>\n",
       "      <td>Y</td>\n",
       "      <td>0.857143</td>\n",
       "    </tr>\n",
       "    <tr>\n",
       "      <th>2003</th>\n",
       "      <td>R166C96XRN62DF</td>\n",
       "      <td>5</td>\n",
       "      <td>135</td>\n",
       "      <td>142</td>\n",
       "      <td>Y</td>\n",
       "      <td>N</td>\n",
       "      <td>0.950704</td>\n",
       "    </tr>\n",
       "    <tr>\n",
       "      <th>31656</th>\n",
       "      <td>R3B5S3OSA8N6AO</td>\n",
       "      <td>5</td>\n",
       "      <td>38</td>\n",
       "      <td>43</td>\n",
       "      <td>Y</td>\n",
       "      <td>N</td>\n",
       "      <td>0.883721</td>\n",
       "    </tr>\n",
       "    <tr>\n",
       "      <th>55313</th>\n",
       "      <td>R16BNZYYOS16XE</td>\n",
       "      <td>5</td>\n",
       "      <td>175</td>\n",
       "      <td>192</td>\n",
       "      <td>Y</td>\n",
       "      <td>N</td>\n",
       "      <td>0.911458</td>\n",
       "    </tr>\n",
       "    <tr>\n",
       "      <th>165236</th>\n",
       "      <td>R18TVJ8BDK6LD6</td>\n",
       "      <td>5</td>\n",
       "      <td>25</td>\n",
       "      <td>27</td>\n",
       "      <td>Y</td>\n",
       "      <td>N</td>\n",
       "      <td>0.925926</td>\n",
       "    </tr>\n",
       "  </tbody>\n",
       "</table>\n",
       "</div>"
      ],
      "text/plain": [
       "             review_id  star_rating  helpful_votes  total_votes vine  \\\n",
       "1435    R14L8ATV3844Q6            5             18           21    Y   \n",
       "2003    R166C96XRN62DF            5            135          142    Y   \n",
       "31656   R3B5S3OSA8N6AO            5             38           43    Y   \n",
       "55313   R16BNZYYOS16XE            5            175          192    Y   \n",
       "165236  R18TVJ8BDK6LD6            5             25           27    Y   \n",
       "\n",
       "       verified_purchase    %votes  \n",
       "1435                   Y  0.857143  \n",
       "2003                   N  0.950704  \n",
       "31656                  N  0.883721  \n",
       "55313                  N  0.911458  \n",
       "165236                 N  0.925926  "
      ]
     },
     "execution_count": 17,
     "metadata": {},
     "output_type": "execute_result"
    }
   ],
   "source": [
    "#Determine the total number of reviews, the number of 5-star reviews, \n",
    "#and the percentage of 5-star reviews for the two types of review (paid vs unpaid).\n",
    "\n",
    "Five_star_paid=df_vine_paid[df_vine_paid['star_rating'] == 5]\n",
    "Five_star_paid.head(5)"
   ]
  },
  {
   "cell_type": "code",
   "execution_count": 41,
   "id": "b95b9279",
   "metadata": {},
   "outputs": [
    {
     "data": {
      "text/html": [
       "<div>\n",
       "<style scoped>\n",
       "    .dataframe tbody tr th:only-of-type {\n",
       "        vertical-align: middle;\n",
       "    }\n",
       "\n",
       "    .dataframe tbody tr th {\n",
       "        vertical-align: top;\n",
       "    }\n",
       "\n",
       "    .dataframe thead th {\n",
       "        text-align: right;\n",
       "    }\n",
       "</style>\n",
       "<table border=\"1\" class=\"dataframe\">\n",
       "  <thead>\n",
       "    <tr style=\"text-align: right;\">\n",
       "      <th></th>\n",
       "      <th>review_id</th>\n",
       "      <th>star_rating</th>\n",
       "      <th>helpful_votes</th>\n",
       "      <th>total_votes</th>\n",
       "      <th>vine</th>\n",
       "      <th>verified_purchase</th>\n",
       "      <th>%votes</th>\n",
       "    </tr>\n",
       "  </thead>\n",
       "  <tbody>\n",
       "    <tr>\n",
       "      <th>99</th>\n",
       "      <td>R10H9GP2OV0G70</td>\n",
       "      <td>5</td>\n",
       "      <td>46</td>\n",
       "      <td>46</td>\n",
       "      <td>N</td>\n",
       "      <td>Y</td>\n",
       "      <td>1.000000</td>\n",
       "    </tr>\n",
       "    <tr>\n",
       "      <th>207</th>\n",
       "      <td>R113D9FLRSOB1T</td>\n",
       "      <td>5</td>\n",
       "      <td>71</td>\n",
       "      <td>83</td>\n",
       "      <td>N</td>\n",
       "      <td>Y</td>\n",
       "      <td>0.855422</td>\n",
       "    </tr>\n",
       "    <tr>\n",
       "      <th>282</th>\n",
       "      <td>R105YT1778GNLZ</td>\n",
       "      <td>5</td>\n",
       "      <td>23</td>\n",
       "      <td>32</td>\n",
       "      <td>N</td>\n",
       "      <td>Y</td>\n",
       "      <td>0.718750</td>\n",
       "    </tr>\n",
       "    <tr>\n",
       "      <th>366</th>\n",
       "      <td>R10KEO8SETOUTD</td>\n",
       "      <td>5</td>\n",
       "      <td>41</td>\n",
       "      <td>43</td>\n",
       "      <td>N</td>\n",
       "      <td>Y</td>\n",
       "      <td>0.953488</td>\n",
       "    </tr>\n",
       "    <tr>\n",
       "      <th>368</th>\n",
       "      <td>R10KV4Y7SJWXNK</td>\n",
       "      <td>5</td>\n",
       "      <td>27</td>\n",
       "      <td>40</td>\n",
       "      <td>N</td>\n",
       "      <td>Y</td>\n",
       "      <td>0.675000</td>\n",
       "    </tr>\n",
       "  </tbody>\n",
       "</table>\n",
       "</div>"
      ],
      "text/plain": [
       "          review_id  star_rating  helpful_votes  total_votes vine  \\\n",
       "99   R10H9GP2OV0G70            5             46           46    N   \n",
       "207  R113D9FLRSOB1T            5             71           83    N   \n",
       "282  R105YT1778GNLZ            5             23           32    N   \n",
       "366  R10KEO8SETOUTD            5             41           43    N   \n",
       "368  R10KV4Y7SJWXNK            5             27           40    N   \n",
       "\n",
       "    verified_purchase    %votes  \n",
       "99                  Y  1.000000  \n",
       "207                 Y  0.855422  \n",
       "282                 Y  0.718750  \n",
       "366                 Y  0.953488  \n",
       "368                 Y  0.675000  "
      ]
     },
     "execution_count": 41,
     "metadata": {},
     "output_type": "execute_result"
    }
   ],
   "source": [
    "Five_star_Unpaid=df_vine_unpaid[df_vine_unpaid ['star_rating'] == 5]\n",
    "Five_star_Unpaid.head(5)"
   ]
  },
  {
   "cell_type": "code",
   "execution_count": 35,
   "id": "12f3c834",
   "metadata": {},
   "outputs": [
    {
     "data": {
      "text/plain": [
       "220"
      ]
     },
     "execution_count": 35,
     "metadata": {},
     "output_type": "execute_result"
    }
   ],
   "source": [
    "Five_star_paid_count = len(Five_star_paid[\"review_id\"].unique())\n",
    "Five_star_paid_count"
   ]
  },
  {
   "cell_type": "code",
   "execution_count": 42,
   "id": "f31f60cd",
   "metadata": {},
   "outputs": [
    {
     "data": {
      "text/plain": [
       "74445"
      ]
     },
     "execution_count": 42,
     "metadata": {},
     "output_type": "execute_result"
    }
   ],
   "source": [
    "Five_star_unpaid_count = len(Five_star_Unpaid[\"review_id\"].unique())\n",
    "Five_star_unpaid_count"
   ]
  },
  {
   "cell_type": "code",
   "execution_count": 43,
   "id": "c1921b69",
   "metadata": {},
   "outputs": [
    {
     "data": {
      "text/plain": [
       "497"
      ]
     },
     "execution_count": 43,
     "metadata": {},
     "output_type": "execute_result"
    }
   ],
   "source": [
    "total_paid =len(df_vine_paid[\"review_id\"])\n",
    "total_paid"
   ]
  },
  {
   "cell_type": "code",
   "execution_count": 44,
   "id": "cd43b72c",
   "metadata": {},
   "outputs": [
    {
     "data": {
      "text/plain": [
       "120825"
      ]
     },
     "execution_count": 44,
     "metadata": {},
     "output_type": "execute_result"
    }
   ],
   "source": [
    "total_unpaid =len(df_vine_unpaid[\"review_id\"])\n",
    "total_unpaid"
   ]
  },
  {
   "cell_type": "code",
   "execution_count": 45,
   "id": "026915ea",
   "metadata": {},
   "outputs": [
    {
     "data": {
      "text/plain": [
       "0.4426559356136821"
      ]
     },
     "execution_count": 45,
     "metadata": {},
     "output_type": "execute_result"
    }
   ],
   "source": [
    "#  Pecentage of five-star reviews in Vine (220/497)\n",
    "Percentage_fivestar_paid =(Five_star_paid_count/total_paid)\n",
    "Percentage_fivestar_paid"
   ]
  },
  {
   "cell_type": "code",
   "execution_count": 47,
   "id": "57b1080b",
   "metadata": {},
   "outputs": [
    {
     "data": {
      "text/plain": [
       "0.6161390440720049"
      ]
     },
     "execution_count": 47,
     "metadata": {},
     "output_type": "execute_result"
    }
   ],
   "source": [
    "#  Pecentage of five-star reviews in Vine(74445/120825)\n",
    "Percentage_fivestar_unpaid =(Five_star_unpaid_count/total_unpaid)\n",
    "Percentage_fivestar_unpaid"
   ]
  },
  {
   "cell_type": "code",
   "execution_count": 50,
   "id": "582c3156",
   "metadata": {},
   "outputs": [
    {
     "data": {
      "text/html": [
       "<div>\n",
       "<style scoped>\n",
       "    .dataframe tbody tr th:only-of-type {\n",
       "        vertical-align: middle;\n",
       "    }\n",
       "\n",
       "    .dataframe tbody tr th {\n",
       "        vertical-align: top;\n",
       "    }\n",
       "\n",
       "    .dataframe thead th {\n",
       "        text-align: right;\n",
       "    }\n",
       "</style>\n",
       "<table border=\"1\" class=\"dataframe\">\n",
       "  <thead>\n",
       "    <tr style=\"text-align: right;\">\n",
       "      <th></th>\n",
       "      <th>review_id</th>\n",
       "      <th>star_rating</th>\n",
       "      <th>helpful_votes</th>\n",
       "      <th>total_votes</th>\n",
       "      <th>vine</th>\n",
       "      <th>verified_purchase</th>\n",
       "      <th>%votes</th>\n",
       "    </tr>\n",
       "  </thead>\n",
       "  <tbody>\n",
       "    <tr>\n",
       "      <th>13519</th>\n",
       "      <td>R20AY3XICZFS7I</td>\n",
       "      <td>4</td>\n",
       "      <td>28</td>\n",
       "      <td>30</td>\n",
       "      <td>Y</td>\n",
       "      <td>N</td>\n",
       "      <td>0.933333</td>\n",
       "    </tr>\n",
       "    <tr>\n",
       "      <th>91142</th>\n",
       "      <td>R3POVP3DKUW1K8</td>\n",
       "      <td>4</td>\n",
       "      <td>29</td>\n",
       "      <td>36</td>\n",
       "      <td>Y</td>\n",
       "      <td>N</td>\n",
       "      <td>0.805556</td>\n",
       "    </tr>\n",
       "    <tr>\n",
       "      <th>99241</th>\n",
       "      <td>RJ2Y4ETBS5CE8</td>\n",
       "      <td>4</td>\n",
       "      <td>41</td>\n",
       "      <td>42</td>\n",
       "      <td>Y</td>\n",
       "      <td>N</td>\n",
       "      <td>0.976190</td>\n",
       "    </tr>\n",
       "    <tr>\n",
       "      <th>113534</th>\n",
       "      <td>R1E5L9YODLAINF</td>\n",
       "      <td>4</td>\n",
       "      <td>55</td>\n",
       "      <td>69</td>\n",
       "      <td>Y</td>\n",
       "      <td>N</td>\n",
       "      <td>0.797101</td>\n",
       "    </tr>\n",
       "    <tr>\n",
       "      <th>175334</th>\n",
       "      <td>R2775YU3WYTS72</td>\n",
       "      <td>4</td>\n",
       "      <td>43</td>\n",
       "      <td>49</td>\n",
       "      <td>Y</td>\n",
       "      <td>N</td>\n",
       "      <td>0.877551</td>\n",
       "    </tr>\n",
       "  </tbody>\n",
       "</table>\n",
       "</div>"
      ],
      "text/plain": [
       "             review_id  star_rating  helpful_votes  total_votes vine  \\\n",
       "13519   R20AY3XICZFS7I            4             28           30    Y   \n",
       "91142   R3POVP3DKUW1K8            4             29           36    Y   \n",
       "99241    RJ2Y4ETBS5CE8            4             41           42    Y   \n",
       "113534  R1E5L9YODLAINF            4             55           69    Y   \n",
       "175334  R2775YU3WYTS72            4             43           49    Y   \n",
       "\n",
       "       verified_purchase    %votes  \n",
       "13519                  N  0.933333  \n",
       "91142                  N  0.805556  \n",
       "99241                  N  0.976190  \n",
       "113534                 N  0.797101  \n",
       "175334                 N  0.877551  "
      ]
     },
     "execution_count": 50,
     "metadata": {},
     "output_type": "execute_result"
    }
   ],
   "source": [
    "#additional analysis \n",
    "Four_star_paid= df_vine_paid[df_vine_paid['star_rating'] == 4]\n",
    "Four_star_paid.head(5)"
   ]
  },
  {
   "cell_type": "code",
   "execution_count": 54,
   "id": "c20c73fe",
   "metadata": {},
   "outputs": [
    {
     "data": {
      "text/plain": [
       "130"
      ]
     },
     "execution_count": 54,
     "metadata": {},
     "output_type": "execute_result"
    }
   ],
   "source": [
    "four_star_paid_count = len(Four_star_paid[\"review_id\"].unique())\n",
    "four_star_paid_count"
   ]
  },
  {
   "cell_type": "code",
   "execution_count": 60,
   "id": "a43468b6",
   "metadata": {},
   "outputs": [
    {
     "data": {
      "text/plain": [
       "0.26156941649899396"
      ]
     },
     "execution_count": 60,
     "metadata": {},
     "output_type": "execute_result"
    }
   ],
   "source": [
    "#four star % paid \n",
    "Percentage_fourstar_paid =(four_star_paid_count/total_paid)\n",
    "Percentage_fourstar_paid"
   ]
  },
  {
   "cell_type": "code",
   "execution_count": 51,
   "id": "97a48e23",
   "metadata": {},
   "outputs": [
    {
     "data": {
      "text/html": [
       "<div>\n",
       "<style scoped>\n",
       "    .dataframe tbody tr th:only-of-type {\n",
       "        vertical-align: middle;\n",
       "    }\n",
       "\n",
       "    .dataframe tbody tr th {\n",
       "        vertical-align: top;\n",
       "    }\n",
       "\n",
       "    .dataframe thead th {\n",
       "        text-align: right;\n",
       "    }\n",
       "</style>\n",
       "<table border=\"1\" class=\"dataframe\">\n",
       "  <thead>\n",
       "    <tr style=\"text-align: right;\">\n",
       "      <th></th>\n",
       "      <th>review_id</th>\n",
       "      <th>star_rating</th>\n",
       "      <th>helpful_votes</th>\n",
       "      <th>total_votes</th>\n",
       "      <th>vine</th>\n",
       "      <th>verified_purchase</th>\n",
       "      <th>%votes</th>\n",
       "    </tr>\n",
       "  </thead>\n",
       "  <tbody>\n",
       "    <tr>\n",
       "      <th>242</th>\n",
       "      <td>R11ARMUBPZYS</td>\n",
       "      <td>4</td>\n",
       "      <td>15</td>\n",
       "      <td>22</td>\n",
       "      <td>N</td>\n",
       "      <td>Y</td>\n",
       "      <td>0.681818</td>\n",
       "    </tr>\n",
       "    <tr>\n",
       "      <th>274</th>\n",
       "      <td>R103UPE2JEWXEC</td>\n",
       "      <td>4</td>\n",
       "      <td>20</td>\n",
       "      <td>20</td>\n",
       "      <td>N</td>\n",
       "      <td>N</td>\n",
       "      <td>1.000000</td>\n",
       "    </tr>\n",
       "    <tr>\n",
       "      <th>490</th>\n",
       "      <td>R11UAD4SBTQAB9</td>\n",
       "      <td>4</td>\n",
       "      <td>39</td>\n",
       "      <td>41</td>\n",
       "      <td>N</td>\n",
       "      <td>Y</td>\n",
       "      <td>0.951220</td>\n",
       "    </tr>\n",
       "    <tr>\n",
       "      <th>1027</th>\n",
       "      <td>R13UQUFH9JO03N</td>\n",
       "      <td>4</td>\n",
       "      <td>32</td>\n",
       "      <td>34</td>\n",
       "      <td>N</td>\n",
       "      <td>Y</td>\n",
       "      <td>0.941176</td>\n",
       "    </tr>\n",
       "    <tr>\n",
       "      <th>1248</th>\n",
       "      <td>R12H9VB39IYJJN</td>\n",
       "      <td>4</td>\n",
       "      <td>14</td>\n",
       "      <td>21</td>\n",
       "      <td>N</td>\n",
       "      <td>Y</td>\n",
       "      <td>0.666667</td>\n",
       "    </tr>\n",
       "  </tbody>\n",
       "</table>\n",
       "</div>"
      ],
      "text/plain": [
       "           review_id  star_rating  helpful_votes  total_votes vine  \\\n",
       "242     R11ARMUBPZYS            4             15           22    N   \n",
       "274   R103UPE2JEWXEC            4             20           20    N   \n",
       "490   R11UAD4SBTQAB9            4             39           41    N   \n",
       "1027  R13UQUFH9JO03N            4             32           34    N   \n",
       "1248  R12H9VB39IYJJN            4             14           21    N   \n",
       "\n",
       "     verified_purchase    %votes  \n",
       "242                  Y  0.681818  \n",
       "274                  N  1.000000  \n",
       "490                  Y  0.951220  \n",
       "1027                 Y  0.941176  \n",
       "1248                 Y  0.666667  "
      ]
     },
     "execution_count": 51,
     "metadata": {},
     "output_type": "execute_result"
    }
   ],
   "source": [
    "Four_star_Unpaid=df_vine_unpaid[df_vine_unpaid ['star_rating'] == 4]\n",
    "Four_star_Unpaid.head(5)"
   ]
  },
  {
   "cell_type": "code",
   "execution_count": 61,
   "id": "5ebe7120",
   "metadata": {},
   "outputs": [
    {
     "data": {
      "text/plain": [
       "13017"
      ]
     },
     "execution_count": 61,
     "metadata": {},
     "output_type": "execute_result"
    }
   ],
   "source": [
    "four_star_unpaid_count = len(Four_star_Unpaid[\"review_id\"].unique())\n",
    "four_star_unpaid_count"
   ]
  },
  {
   "cell_type": "code",
   "execution_count": 62,
   "id": "12b5f157",
   "metadata": {},
   "outputs": [
    {
     "data": {
      "text/plain": [
       "0.10773432650527623"
      ]
     },
     "execution_count": 62,
     "metadata": {},
     "output_type": "execute_result"
    }
   ],
   "source": [
    "#four star % unpaid \n",
    "Percentage_fourstar_unpaid =(four_star_unpaid_count/total_unpaid)\n",
    "Percentage_fourstar_unpaid"
   ]
  },
  {
   "cell_type": "code",
   "execution_count": 63,
   "id": "64bc6ce7",
   "metadata": {},
   "outputs": [
    {
     "data": {
      "text/html": [
       "<div>\n",
       "<style scoped>\n",
       "    .dataframe tbody tr th:only-of-type {\n",
       "        vertical-align: middle;\n",
       "    }\n",
       "\n",
       "    .dataframe tbody tr th {\n",
       "        vertical-align: top;\n",
       "    }\n",
       "\n",
       "    .dataframe thead th {\n",
       "        text-align: right;\n",
       "    }\n",
       "</style>\n",
       "<table border=\"1\" class=\"dataframe\">\n",
       "  <thead>\n",
       "    <tr style=\"text-align: right;\">\n",
       "      <th></th>\n",
       "      <th>review_id</th>\n",
       "      <th>star_rating</th>\n",
       "      <th>helpful_votes</th>\n",
       "      <th>total_votes</th>\n",
       "      <th>vine</th>\n",
       "      <th>verified_purchase</th>\n",
       "      <th>%votes</th>\n",
       "    </tr>\n",
       "  </thead>\n",
       "  <tbody>\n",
       "    <tr>\n",
       "      <th>62691</th>\n",
       "      <td>R1ON04B0O4R11U</td>\n",
       "      <td>3</td>\n",
       "      <td>681</td>\n",
       "      <td>726</td>\n",
       "      <td>Y</td>\n",
       "      <td>N</td>\n",
       "      <td>0.938017</td>\n",
       "    </tr>\n",
       "    <tr>\n",
       "      <th>124811</th>\n",
       "      <td>R2BY9H88I1EVUB</td>\n",
       "      <td>3</td>\n",
       "      <td>504</td>\n",
       "      <td>556</td>\n",
       "      <td>Y</td>\n",
       "      <td>N</td>\n",
       "      <td>0.906475</td>\n",
       "    </tr>\n",
       "    <tr>\n",
       "      <th>287609</th>\n",
       "      <td>R29WBSU7JH1Q2Q</td>\n",
       "      <td>3</td>\n",
       "      <td>38</td>\n",
       "      <td>53</td>\n",
       "      <td>Y</td>\n",
       "      <td>N</td>\n",
       "      <td>0.716981</td>\n",
       "    </tr>\n",
       "    <tr>\n",
       "      <th>311143</th>\n",
       "      <td>R6OQZADDWEK3E</td>\n",
       "      <td>3</td>\n",
       "      <td>52</td>\n",
       "      <td>72</td>\n",
       "      <td>Y</td>\n",
       "      <td>N</td>\n",
       "      <td>0.722222</td>\n",
       "    </tr>\n",
       "    <tr>\n",
       "      <th>328551</th>\n",
       "      <td>R1F98P2CXNMMLB</td>\n",
       "      <td>3</td>\n",
       "      <td>90</td>\n",
       "      <td>94</td>\n",
       "      <td>Y</td>\n",
       "      <td>N</td>\n",
       "      <td>0.957447</td>\n",
       "    </tr>\n",
       "  </tbody>\n",
       "</table>\n",
       "</div>"
      ],
      "text/plain": [
       "             review_id  star_rating  helpful_votes  total_votes vine  \\\n",
       "62691   R1ON04B0O4R11U            3            681          726    Y   \n",
       "124811  R2BY9H88I1EVUB            3            504          556    Y   \n",
       "287609  R29WBSU7JH1Q2Q            3             38           53    Y   \n",
       "311143   R6OQZADDWEK3E            3             52           72    Y   \n",
       "328551  R1F98P2CXNMMLB            3             90           94    Y   \n",
       "\n",
       "       verified_purchase    %votes  \n",
       "62691                  N  0.938017  \n",
       "124811                 N  0.906475  \n",
       "287609                 N  0.716981  \n",
       "311143                 N  0.722222  \n",
       "328551                 N  0.957447  "
      ]
     },
     "execution_count": 63,
     "metadata": {},
     "output_type": "execute_result"
    }
   ],
   "source": [
    "Three_star_paid= df_vine_paid[df_vine_paid['star_rating'] == 3]\n",
    "Three_star_paid.head(5)"
   ]
  },
  {
   "cell_type": "code",
   "execution_count": 66,
   "id": "598aaa2b",
   "metadata": {},
   "outputs": [
    {
     "data": {
      "text/plain": [
       "77"
      ]
     },
     "execution_count": 66,
     "metadata": {},
     "output_type": "execute_result"
    }
   ],
   "source": [
    "Three_star_paid_count = len(Three_star_paid[\"review_id\"].unique())\n",
    "Three_star_paid_count"
   ]
  },
  {
   "cell_type": "code",
   "execution_count": 67,
   "id": "9c6912e0",
   "metadata": {},
   "outputs": [
    {
     "data": {
      "text/plain": [
       "0.15492957746478872"
      ]
     },
     "execution_count": 67,
     "metadata": {},
     "output_type": "execute_result"
    }
   ],
   "source": [
    "Percentage_threestar_paid =(Three_star_paid_count/total_paid)\n",
    "Percentage_threestar_paid"
   ]
  },
  {
   "cell_type": "code",
   "execution_count": 64,
   "id": "be21d799",
   "metadata": {},
   "outputs": [
    {
     "data": {
      "text/html": [
       "<div>\n",
       "<style scoped>\n",
       "    .dataframe tbody tr th:only-of-type {\n",
       "        vertical-align: middle;\n",
       "    }\n",
       "\n",
       "    .dataframe tbody tr th {\n",
       "        vertical-align: top;\n",
       "    }\n",
       "\n",
       "    .dataframe thead th {\n",
       "        text-align: right;\n",
       "    }\n",
       "</style>\n",
       "<table border=\"1\" class=\"dataframe\">\n",
       "  <thead>\n",
       "    <tr style=\"text-align: right;\">\n",
       "      <th></th>\n",
       "      <th>review_id</th>\n",
       "      <th>star_rating</th>\n",
       "      <th>helpful_votes</th>\n",
       "      <th>total_votes</th>\n",
       "      <th>vine</th>\n",
       "      <th>verified_purchase</th>\n",
       "      <th>%votes</th>\n",
       "    </tr>\n",
       "  </thead>\n",
       "  <tbody>\n",
       "    <tr>\n",
       "      <th>511</th>\n",
       "      <td>R11WTE2ZUV8Q1Q</td>\n",
       "      <td>3</td>\n",
       "      <td>36</td>\n",
       "      <td>54</td>\n",
       "      <td>N</td>\n",
       "      <td>N</td>\n",
       "      <td>0.666667</td>\n",
       "    </tr>\n",
       "    <tr>\n",
       "      <th>1045</th>\n",
       "      <td>R13Y1CPG9LF44Z</td>\n",
       "      <td>3</td>\n",
       "      <td>62</td>\n",
       "      <td>89</td>\n",
       "      <td>N</td>\n",
       "      <td>N</td>\n",
       "      <td>0.696629</td>\n",
       "    </tr>\n",
       "    <tr>\n",
       "      <th>1250</th>\n",
       "      <td>R12HMZ6TGXEW6Y</td>\n",
       "      <td>3</td>\n",
       "      <td>27</td>\n",
       "      <td>36</td>\n",
       "      <td>N</td>\n",
       "      <td>N</td>\n",
       "      <td>0.750000</td>\n",
       "    </tr>\n",
       "    <tr>\n",
       "      <th>4612</th>\n",
       "      <td>R1D66J76QQOFY3</td>\n",
       "      <td>3</td>\n",
       "      <td>21</td>\n",
       "      <td>24</td>\n",
       "      <td>N</td>\n",
       "      <td>Y</td>\n",
       "      <td>0.875000</td>\n",
       "    </tr>\n",
       "    <tr>\n",
       "      <th>5251</th>\n",
       "      <td>R1CPZKRZFDCWN5</td>\n",
       "      <td>3</td>\n",
       "      <td>102</td>\n",
       "      <td>157</td>\n",
       "      <td>N</td>\n",
       "      <td>Y</td>\n",
       "      <td>0.649682</td>\n",
       "    </tr>\n",
       "  </tbody>\n",
       "</table>\n",
       "</div>"
      ],
      "text/plain": [
       "           review_id  star_rating  helpful_votes  total_votes vine  \\\n",
       "511   R11WTE2ZUV8Q1Q            3             36           54    N   \n",
       "1045  R13Y1CPG9LF44Z            3             62           89    N   \n",
       "1250  R12HMZ6TGXEW6Y            3             27           36    N   \n",
       "4612  R1D66J76QQOFY3            3             21           24    N   \n",
       "5251  R1CPZKRZFDCWN5            3            102          157    N   \n",
       "\n",
       "     verified_purchase    %votes  \n",
       "511                  N  0.666667  \n",
       "1045                 N  0.696629  \n",
       "1250                 N  0.750000  \n",
       "4612                 Y  0.875000  \n",
       "5251                 Y  0.649682  "
      ]
     },
     "execution_count": 64,
     "metadata": {},
     "output_type": "execute_result"
    }
   ],
   "source": [
    "Three_star_Unpaid=df_vine_unpaid[df_vine_unpaid ['star_rating'] == 3]\n",
    "Three_star_Unpaid.head(5)"
   ]
  },
  {
   "cell_type": "code",
   "execution_count": 68,
   "id": "0cdb7e43",
   "metadata": {},
   "outputs": [
    {
     "data": {
      "text/plain": [
       "6950"
      ]
     },
     "execution_count": 68,
     "metadata": {},
     "output_type": "execute_result"
    }
   ],
   "source": [
    "Three_star_unpaid_count = len(Three_star_Unpaid[\"review_id\"].unique())\n",
    "Three_star_unpaid_count"
   ]
  },
  {
   "cell_type": "code",
   "execution_count": 78,
   "id": "565aba74",
   "metadata": {},
   "outputs": [
    {
     "data": {
      "text/plain": [
       "0.05752120835919718"
      ]
     },
     "execution_count": 78,
     "metadata": {},
     "output_type": "execute_result"
    }
   ],
   "source": [
    "Percentage_threestar_unpaid =(Three_star_unpaid_count/total_unpaid)\n",
    "Percentage_threestar_unpaid"
   ]
  },
  {
   "cell_type": "code",
   "execution_count": 73,
   "id": "df6e0b11",
   "metadata": {},
   "outputs": [
    {
     "data": {
      "text/html": [
       "<div>\n",
       "<style scoped>\n",
       "    .dataframe tbody tr th:only-of-type {\n",
       "        vertical-align: middle;\n",
       "    }\n",
       "\n",
       "    .dataframe tbody tr th {\n",
       "        vertical-align: top;\n",
       "    }\n",
       "\n",
       "    .dataframe thead th {\n",
       "        text-align: right;\n",
       "    }\n",
       "</style>\n",
       "<table border=\"1\" class=\"dataframe\">\n",
       "  <thead>\n",
       "    <tr style=\"text-align: right;\">\n",
       "      <th></th>\n",
       "      <th>review_id</th>\n",
       "      <th>star_rating</th>\n",
       "      <th>helpful_votes</th>\n",
       "      <th>total_votes</th>\n",
       "      <th>vine</th>\n",
       "      <th>verified_purchase</th>\n",
       "      <th>%votes</th>\n",
       "    </tr>\n",
       "  </thead>\n",
       "  <tbody>\n",
       "    <tr>\n",
       "      <th>222341</th>\n",
       "      <td>R1G0A5PCYUOAPR</td>\n",
       "      <td>2</td>\n",
       "      <td>19</td>\n",
       "      <td>24</td>\n",
       "      <td>Y</td>\n",
       "      <td>N</td>\n",
       "      <td>0.791667</td>\n",
       "    </tr>\n",
       "    <tr>\n",
       "      <th>233472</th>\n",
       "      <td>R2L6FEG9JS0BIS</td>\n",
       "      <td>2</td>\n",
       "      <td>31</td>\n",
       "      <td>32</td>\n",
       "      <td>Y</td>\n",
       "      <td>N</td>\n",
       "      <td>0.968750</td>\n",
       "    </tr>\n",
       "    <tr>\n",
       "      <th>310383</th>\n",
       "      <td>RJ9ZCF2V76C79</td>\n",
       "      <td>2</td>\n",
       "      <td>27</td>\n",
       "      <td>35</td>\n",
       "      <td>Y</td>\n",
       "      <td>N</td>\n",
       "      <td>0.771429</td>\n",
       "    </tr>\n",
       "    <tr>\n",
       "      <th>593020</th>\n",
       "      <td>R1ZHBZF2M2UM6P</td>\n",
       "      <td>2</td>\n",
       "      <td>37</td>\n",
       "      <td>48</td>\n",
       "      <td>Y</td>\n",
       "      <td>N</td>\n",
       "      <td>0.770833</td>\n",
       "    </tr>\n",
       "    <tr>\n",
       "      <th>608332</th>\n",
       "      <td>R23QJK9DEYG5IZ</td>\n",
       "      <td>2</td>\n",
       "      <td>43</td>\n",
       "      <td>52</td>\n",
       "      <td>Y</td>\n",
       "      <td>N</td>\n",
       "      <td>0.826923</td>\n",
       "    </tr>\n",
       "  </tbody>\n",
       "</table>\n",
       "</div>"
      ],
      "text/plain": [
       "             review_id  star_rating  helpful_votes  total_votes vine  \\\n",
       "222341  R1G0A5PCYUOAPR            2             19           24    Y   \n",
       "233472  R2L6FEG9JS0BIS            2             31           32    Y   \n",
       "310383   RJ9ZCF2V76C79            2             27           35    Y   \n",
       "593020  R1ZHBZF2M2UM6P            2             37           48    Y   \n",
       "608332  R23QJK9DEYG5IZ            2             43           52    Y   \n",
       "\n",
       "       verified_purchase    %votes  \n",
       "222341                 N  0.791667  \n",
       "233472                 N  0.968750  \n",
       "310383                 N  0.771429  \n",
       "593020                 N  0.770833  \n",
       "608332                 N  0.826923  "
      ]
     },
     "execution_count": 73,
     "metadata": {},
     "output_type": "execute_result"
    }
   ],
   "source": [
    "Two_star_paid= df_vine_paid[df_vine_paid['star_rating'] == 2]\n",
    "Two_star_paid.head(5)"
   ]
  },
  {
   "cell_type": "code",
   "execution_count": 74,
   "id": "26005a3e",
   "metadata": {},
   "outputs": [
    {
     "data": {
      "text/plain": [
       "39"
      ]
     },
     "execution_count": 74,
     "metadata": {},
     "output_type": "execute_result"
    }
   ],
   "source": [
    "Two_star_paid_count = len(Two_star_paid[\"review_id\"].unique())\n",
    "Two_star_paid_count"
   ]
  },
  {
   "cell_type": "code",
   "execution_count": 75,
   "id": "a888d333",
   "metadata": {},
   "outputs": [
    {
     "data": {
      "text/plain": [
       "0.07847082494969819"
      ]
     },
     "execution_count": 75,
     "metadata": {},
     "output_type": "execute_result"
    }
   ],
   "source": [
    "Percentage_twostar_paid =(Two_star_paid_count/total_paid)\n",
    "Percentage_twostar_paid"
   ]
  },
  {
   "cell_type": "code",
   "execution_count": 71,
   "id": "d159967c",
   "metadata": {},
   "outputs": [
    {
     "data": {
      "text/html": [
       "<div>\n",
       "<style scoped>\n",
       "    .dataframe tbody tr th:only-of-type {\n",
       "        vertical-align: middle;\n",
       "    }\n",
       "\n",
       "    .dataframe tbody tr th {\n",
       "        vertical-align: top;\n",
       "    }\n",
       "\n",
       "    .dataframe thead th {\n",
       "        text-align: right;\n",
       "    }\n",
       "</style>\n",
       "<table border=\"1\" class=\"dataframe\">\n",
       "  <thead>\n",
       "    <tr style=\"text-align: right;\">\n",
       "      <th></th>\n",
       "      <th>review_id</th>\n",
       "      <th>star_rating</th>\n",
       "      <th>helpful_votes</th>\n",
       "      <th>total_votes</th>\n",
       "      <th>vine</th>\n",
       "      <th>verified_purchase</th>\n",
       "      <th>%votes</th>\n",
       "    </tr>\n",
       "  </thead>\n",
       "  <tbody>\n",
       "    <tr>\n",
       "      <th>116</th>\n",
       "      <td>R10K4ODD3K8SK1</td>\n",
       "      <td>2</td>\n",
       "      <td>36</td>\n",
       "      <td>49</td>\n",
       "      <td>N</td>\n",
       "      <td>N</td>\n",
       "      <td>0.734694</td>\n",
       "    </tr>\n",
       "    <tr>\n",
       "      <th>1313</th>\n",
       "      <td>R12T7HF8F7J2UL</td>\n",
       "      <td>2</td>\n",
       "      <td>40</td>\n",
       "      <td>62</td>\n",
       "      <td>N</td>\n",
       "      <td>N</td>\n",
       "      <td>0.645161</td>\n",
       "    </tr>\n",
       "    <tr>\n",
       "      <th>1603</th>\n",
       "      <td>R15GFZQ54OJFWN</td>\n",
       "      <td>2</td>\n",
       "      <td>458</td>\n",
       "      <td>464</td>\n",
       "      <td>N</td>\n",
       "      <td>N</td>\n",
       "      <td>0.987069</td>\n",
       "    </tr>\n",
       "    <tr>\n",
       "      <th>2022</th>\n",
       "      <td>R169UEWBFW23CE</td>\n",
       "      <td>2</td>\n",
       "      <td>46</td>\n",
       "      <td>48</td>\n",
       "      <td>N</td>\n",
       "      <td>Y</td>\n",
       "      <td>0.958333</td>\n",
       "    </tr>\n",
       "    <tr>\n",
       "      <th>2931</th>\n",
       "      <td>R1727NCTPKM08B</td>\n",
       "      <td>2</td>\n",
       "      <td>63</td>\n",
       "      <td>67</td>\n",
       "      <td>N</td>\n",
       "      <td>Y</td>\n",
       "      <td>0.940299</td>\n",
       "    </tr>\n",
       "  </tbody>\n",
       "</table>\n",
       "</div>"
      ],
      "text/plain": [
       "           review_id  star_rating  helpful_votes  total_votes vine  \\\n",
       "116   R10K4ODD3K8SK1            2             36           49    N   \n",
       "1313  R12T7HF8F7J2UL            2             40           62    N   \n",
       "1603  R15GFZQ54OJFWN            2            458          464    N   \n",
       "2022  R169UEWBFW23CE            2             46           48    N   \n",
       "2931  R1727NCTPKM08B            2             63           67    N   \n",
       "\n",
       "     verified_purchase    %votes  \n",
       "116                  N  0.734694  \n",
       "1313                 N  0.645161  \n",
       "1603                 N  0.987069  \n",
       "2022                 Y  0.958333  \n",
       "2931                 Y  0.940299  "
      ]
     },
     "execution_count": 71,
     "metadata": {},
     "output_type": "execute_result"
    }
   ],
   "source": [
    "Two_star_Unpaid=df_vine_unpaid[df_vine_unpaid ['star_rating'] == 2]\n",
    "Two_star_Unpaid.head(5)"
   ]
  },
  {
   "cell_type": "code",
   "execution_count": 76,
   "id": "cfd54973",
   "metadata": {},
   "outputs": [
    {
     "data": {
      "text/plain": [
       "5181"
      ]
     },
     "execution_count": 76,
     "metadata": {},
     "output_type": "execute_result"
    }
   ],
   "source": [
    "Two_star_unpaid_count = len(Two_star_Unpaid[\"review_id\"].unique())\n",
    "Two_star_unpaid_count"
   ]
  },
  {
   "cell_type": "code",
   "execution_count": 77,
   "id": "d9f3b519",
   "metadata": {},
   "outputs": [
    {
     "data": {
      "text/plain": [
       "0.04288019863438858"
      ]
     },
     "execution_count": 77,
     "metadata": {},
     "output_type": "execute_result"
    }
   ],
   "source": [
    "Percentage_twostar_unpaid =(Two_star_unpaid_count/total_unpaid)\n",
    "Percentage_twostar_unpaid"
   ]
  },
  {
   "cell_type": "code",
   "execution_count": 52,
   "id": "a734c985",
   "metadata": {},
   "outputs": [
    {
     "data": {
      "text/html": [
       "<div>\n",
       "<style scoped>\n",
       "    .dataframe tbody tr th:only-of-type {\n",
       "        vertical-align: middle;\n",
       "    }\n",
       "\n",
       "    .dataframe tbody tr th {\n",
       "        vertical-align: top;\n",
       "    }\n",
       "\n",
       "    .dataframe thead th {\n",
       "        text-align: right;\n",
       "    }\n",
       "</style>\n",
       "<table border=\"1\" class=\"dataframe\">\n",
       "  <thead>\n",
       "    <tr style=\"text-align: right;\">\n",
       "      <th></th>\n",
       "      <th>review_id</th>\n",
       "      <th>star_rating</th>\n",
       "      <th>helpful_votes</th>\n",
       "      <th>total_votes</th>\n",
       "      <th>vine</th>\n",
       "      <th>verified_purchase</th>\n",
       "      <th>%votes</th>\n",
       "    </tr>\n",
       "  </thead>\n",
       "  <tbody>\n",
       "    <tr>\n",
       "      <th>94779</th>\n",
       "      <td>R6K8ODDN8RG0Z</td>\n",
       "      <td>1</td>\n",
       "      <td>46</td>\n",
       "      <td>60</td>\n",
       "      <td>Y</td>\n",
       "      <td>N</td>\n",
       "      <td>0.766667</td>\n",
       "    </tr>\n",
       "    <tr>\n",
       "      <th>187993</th>\n",
       "      <td>R33P0HCV4KYOTN</td>\n",
       "      <td>1</td>\n",
       "      <td>352</td>\n",
       "      <td>378</td>\n",
       "      <td>Y</td>\n",
       "      <td>N</td>\n",
       "      <td>0.931217</td>\n",
       "    </tr>\n",
       "    <tr>\n",
       "      <th>244181</th>\n",
       "      <td>R3DDP9H0J1EYH7</td>\n",
       "      <td>1</td>\n",
       "      <td>11</td>\n",
       "      <td>20</td>\n",
       "      <td>Y</td>\n",
       "      <td>N</td>\n",
       "      <td>0.550000</td>\n",
       "    </tr>\n",
       "    <tr>\n",
       "      <th>266223</th>\n",
       "      <td>RXUSDD2Q6NA6X</td>\n",
       "      <td>1</td>\n",
       "      <td>30</td>\n",
       "      <td>35</td>\n",
       "      <td>Y</td>\n",
       "      <td>N</td>\n",
       "      <td>0.857143</td>\n",
       "    </tr>\n",
       "    <tr>\n",
       "      <th>366999</th>\n",
       "      <td>RBKF410LEI77N</td>\n",
       "      <td>1</td>\n",
       "      <td>687</td>\n",
       "      <td>748</td>\n",
       "      <td>Y</td>\n",
       "      <td>Y</td>\n",
       "      <td>0.918449</td>\n",
       "    </tr>\n",
       "  </tbody>\n",
       "</table>\n",
       "</div>"
      ],
      "text/plain": [
       "             review_id  star_rating  helpful_votes  total_votes vine  \\\n",
       "94779    R6K8ODDN8RG0Z            1             46           60    Y   \n",
       "187993  R33P0HCV4KYOTN            1            352          378    Y   \n",
       "244181  R3DDP9H0J1EYH7            1             11           20    Y   \n",
       "266223   RXUSDD2Q6NA6X            1             30           35    Y   \n",
       "366999   RBKF410LEI77N            1            687          748    Y   \n",
       "\n",
       "       verified_purchase    %votes  \n",
       "94779                  N  0.766667  \n",
       "187993                 N  0.931217  \n",
       "244181                 N  0.550000  \n",
       "266223                 N  0.857143  \n",
       "366999                 Y  0.918449  "
      ]
     },
     "execution_count": 52,
     "metadata": {},
     "output_type": "execute_result"
    }
   ],
   "source": [
    "one_star_paid=df_vine_paid[df_vine_paid['star_rating'] == 1]\n",
    "one_star_paid.head(5)"
   ]
  },
  {
   "cell_type": "code",
   "execution_count": 56,
   "id": "ab367c3c",
   "metadata": {},
   "outputs": [
    {
     "data": {
      "text/plain": [
       "31"
      ]
     },
     "execution_count": 56,
     "metadata": {},
     "output_type": "execute_result"
    }
   ],
   "source": [
    "one_star_paid_count = len(one_star_paid[\"review_id\"].unique())\n",
    "one_star_paid_count"
   ]
  },
  {
   "cell_type": "code",
   "execution_count": 58,
   "id": "dd16e184",
   "metadata": {},
   "outputs": [
    {
     "data": {
      "text/plain": [
       "0.06237424547283702"
      ]
     },
     "execution_count": 58,
     "metadata": {},
     "output_type": "execute_result"
    }
   ],
   "source": [
    "#one star % paid \n",
    "Percentage_onestar_paid =(one_star_paid_count/total_paid)\n",
    "Percentage_onestar_paid"
   ]
  },
  {
   "cell_type": "code",
   "execution_count": 53,
   "id": "fdee8059",
   "metadata": {},
   "outputs": [
    {
     "data": {
      "text/html": [
       "<div>\n",
       "<style scoped>\n",
       "    .dataframe tbody tr th:only-of-type {\n",
       "        vertical-align: middle;\n",
       "    }\n",
       "\n",
       "    .dataframe tbody tr th {\n",
       "        vertical-align: top;\n",
       "    }\n",
       "\n",
       "    .dataframe thead th {\n",
       "        text-align: right;\n",
       "    }\n",
       "</style>\n",
       "<table border=\"1\" class=\"dataframe\">\n",
       "  <thead>\n",
       "    <tr style=\"text-align: right;\">\n",
       "      <th></th>\n",
       "      <th>review_id</th>\n",
       "      <th>star_rating</th>\n",
       "      <th>helpful_votes</th>\n",
       "      <th>total_votes</th>\n",
       "      <th>vine</th>\n",
       "      <th>verified_purchase</th>\n",
       "      <th>%votes</th>\n",
       "    </tr>\n",
       "  </thead>\n",
       "  <tbody>\n",
       "    <tr>\n",
       "      <th>244</th>\n",
       "      <td>R11BD8M9OCPVM2</td>\n",
       "      <td>1</td>\n",
       "      <td>15</td>\n",
       "      <td>24</td>\n",
       "      <td>N</td>\n",
       "      <td>N</td>\n",
       "      <td>0.625000</td>\n",
       "    </tr>\n",
       "    <tr>\n",
       "      <th>462</th>\n",
       "      <td>R11NHU37112B6L</td>\n",
       "      <td>1</td>\n",
       "      <td>37</td>\n",
       "      <td>45</td>\n",
       "      <td>N</td>\n",
       "      <td>Y</td>\n",
       "      <td>0.822222</td>\n",
       "    </tr>\n",
       "    <tr>\n",
       "      <th>779</th>\n",
       "      <td>R11AK4NR5RJATI</td>\n",
       "      <td>1</td>\n",
       "      <td>16</td>\n",
       "      <td>21</td>\n",
       "      <td>N</td>\n",
       "      <td>Y</td>\n",
       "      <td>0.761905</td>\n",
       "    </tr>\n",
       "    <tr>\n",
       "      <th>1665</th>\n",
       "      <td>R13ABZFTYFB7C6</td>\n",
       "      <td>1</td>\n",
       "      <td>109</td>\n",
       "      <td>136</td>\n",
       "      <td>N</td>\n",
       "      <td>N</td>\n",
       "      <td>0.801471</td>\n",
       "    </tr>\n",
       "    <tr>\n",
       "      <th>1784</th>\n",
       "      <td>R13YOUWZK88XNW</td>\n",
       "      <td>1</td>\n",
       "      <td>72</td>\n",
       "      <td>81</td>\n",
       "      <td>N</td>\n",
       "      <td>N</td>\n",
       "      <td>0.888889</td>\n",
       "    </tr>\n",
       "  </tbody>\n",
       "</table>\n",
       "</div>"
      ],
      "text/plain": [
       "           review_id  star_rating  helpful_votes  total_votes vine  \\\n",
       "244   R11BD8M9OCPVM2            1             15           24    N   \n",
       "462   R11NHU37112B6L            1             37           45    N   \n",
       "779   R11AK4NR5RJATI            1             16           21    N   \n",
       "1665  R13ABZFTYFB7C6            1            109          136    N   \n",
       "1784  R13YOUWZK88XNW            1             72           81    N   \n",
       "\n",
       "     verified_purchase    %votes  \n",
       "244                  N  0.625000  \n",
       "462                  Y  0.822222  \n",
       "779                  Y  0.761905  \n",
       "1665                 N  0.801471  \n",
       "1784                 N  0.888889  "
      ]
     },
     "execution_count": 53,
     "metadata": {},
     "output_type": "execute_result"
    }
   ],
   "source": [
    "one_star_Unpaid=df_vine_unpaid[df_vine_unpaid ['star_rating'] == 1]\n",
    "one_star_Unpaid.head(5)"
   ]
  },
  {
   "cell_type": "code",
   "execution_count": 57,
   "id": "6a72e9c3",
   "metadata": {},
   "outputs": [
    {
     "data": {
      "text/plain": [
       "21232"
      ]
     },
     "execution_count": 57,
     "metadata": {},
     "output_type": "execute_result"
    }
   ],
   "source": [
    "one_star_unpaid_count = len(one_star_Unpaid[\"review_id\"].unique())\n",
    "one_star_unpaid_count"
   ]
  },
  {
   "cell_type": "code",
   "execution_count": 59,
   "id": "53b02ccc",
   "metadata": {},
   "outputs": [
    {
     "data": {
      "text/plain": [
       "0.17572522242913305"
      ]
     },
     "execution_count": 59,
     "metadata": {},
     "output_type": "execute_result"
    }
   ],
   "source": [
    "#one star % unpaid \n",
    "Percentage_fivestar_unpaid =(one_star_unpaid_count/total_unpaid)\n",
    "Percentage_fivestar_unpaid"
   ]
  },
  {
   "cell_type": "code",
   "execution_count": 79,
   "id": "f3fb1bdd",
   "metadata": {},
   "outputs": [],
   "source": [
    "#plot DF paid and rating \n",
    "import numpy as np\n",
    "import matplotlib.pyplot as plt\n",
    "from scipy.stats import norm\n",
    "import statistics\n",
    "  \n"
   ]
  },
  {
   "cell_type": "code",
   "execution_count": 90,
   "id": "0710d460",
   "metadata": {},
   "outputs": [
    {
     "data": {
      "text/html": [
       "<div>\n",
       "<style scoped>\n",
       "    .dataframe tbody tr th:only-of-type {\n",
       "        vertical-align: middle;\n",
       "    }\n",
       "\n",
       "    .dataframe tbody tr th {\n",
       "        vertical-align: top;\n",
       "    }\n",
       "\n",
       "    .dataframe thead th {\n",
       "        text-align: right;\n",
       "    }\n",
       "</style>\n",
       "<table border=\"1\" class=\"dataframe\">\n",
       "  <thead>\n",
       "    <tr style=\"text-align: right;\">\n",
       "      <th></th>\n",
       "      <th>review_id</th>\n",
       "      <th>star_rating</th>\n",
       "      <th>helpful_votes</th>\n",
       "      <th>total_votes</th>\n",
       "      <th>vine</th>\n",
       "      <th>verified_purchase</th>\n",
       "      <th>%votes</th>\n",
       "    </tr>\n",
       "  </thead>\n",
       "  <tbody>\n",
       "    <tr>\n",
       "      <th>1435</th>\n",
       "      <td>R14L8ATV3844Q6</td>\n",
       "      <td>5</td>\n",
       "      <td>18</td>\n",
       "      <td>21</td>\n",
       "      <td>Y</td>\n",
       "      <td>Y</td>\n",
       "      <td>0.857143</td>\n",
       "    </tr>\n",
       "    <tr>\n",
       "      <th>2003</th>\n",
       "      <td>R166C96XRN62DF</td>\n",
       "      <td>5</td>\n",
       "      <td>135</td>\n",
       "      <td>142</td>\n",
       "      <td>Y</td>\n",
       "      <td>N</td>\n",
       "      <td>0.950704</td>\n",
       "    </tr>\n",
       "    <tr>\n",
       "      <th>13519</th>\n",
       "      <td>R20AY3XICZFS7I</td>\n",
       "      <td>4</td>\n",
       "      <td>28</td>\n",
       "      <td>30</td>\n",
       "      <td>Y</td>\n",
       "      <td>N</td>\n",
       "      <td>0.933333</td>\n",
       "    </tr>\n",
       "    <tr>\n",
       "      <th>31656</th>\n",
       "      <td>R3B5S3OSA8N6AO</td>\n",
       "      <td>5</td>\n",
       "      <td>38</td>\n",
       "      <td>43</td>\n",
       "      <td>Y</td>\n",
       "      <td>N</td>\n",
       "      <td>0.883721</td>\n",
       "    </tr>\n",
       "    <tr>\n",
       "      <th>55313</th>\n",
       "      <td>R16BNZYYOS16XE</td>\n",
       "      <td>5</td>\n",
       "      <td>175</td>\n",
       "      <td>192</td>\n",
       "      <td>Y</td>\n",
       "      <td>N</td>\n",
       "      <td>0.911458</td>\n",
       "    </tr>\n",
       "  </tbody>\n",
       "</table>\n",
       "</div>"
      ],
      "text/plain": [
       "            review_id  star_rating  helpful_votes  total_votes vine  \\\n",
       "1435   R14L8ATV3844Q6            5             18           21    Y   \n",
       "2003   R166C96XRN62DF            5            135          142    Y   \n",
       "13519  R20AY3XICZFS7I            4             28           30    Y   \n",
       "31656  R3B5S3OSA8N6AO            5             38           43    Y   \n",
       "55313  R16BNZYYOS16XE            5            175          192    Y   \n",
       "\n",
       "      verified_purchase    %votes  \n",
       "1435                  Y  0.857143  \n",
       "2003                  N  0.950704  \n",
       "13519                 N  0.933333  \n",
       "31656                 N  0.883721  \n",
       "55313                 N  0.911458  "
      ]
     },
     "execution_count": 90,
     "metadata": {},
     "output_type": "execute_result"
    }
   ],
   "source": [
    "df_vine_paid.head(5)"
   ]
  },
  {
   "cell_type": "code",
   "execution_count": 85,
   "id": "51f1c7f7",
   "metadata": {},
   "outputs": [
    {
     "data": {
      "text/plain": [
       "<AxesSubplot:ylabel='Density'>"
      ]
     },
     "execution_count": 85,
     "metadata": {},
     "output_type": "execute_result"
    },
    {
     "data": {
      "image/png": "[encoded data removed]",
      "text/plain": [
       "<Figure size 432x288 with 1 Axes>"
      ]
     },
     "metadata": {
      "needs_background": "light"
     },
     "output_type": "display_data"
    }
   ],
   "source": [
    "# plot to see distribution of star rating \n",
    "df_vine_paid[\"star_rating\"].plot(kind = 'density')"
   ]
  },
  {
   "cell_type": "code",
   "execution_count": 87,
   "id": "46470b68",
   "metadata": {},
   "outputs": [
    {
     "data": {
      "text/html": [
       "<div>\n",
       "<style scoped>\n",
       "    .dataframe tbody tr th:only-of-type {\n",
       "        vertical-align: middle;\n",
       "    }\n",
       "\n",
       "    .dataframe tbody tr th {\n",
       "        vertical-align: top;\n",
       "    }\n",
       "\n",
       "    .dataframe thead th {\n",
       "        text-align: right;\n",
       "    }\n",
       "</style>\n",
       "<table border=\"1\" class=\"dataframe\">\n",
       "  <thead>\n",
       "    <tr style=\"text-align: right;\">\n",
       "      <th></th>\n",
       "      <th>star_rating</th>\n",
       "      <th>helpful_votes</th>\n",
       "      <th>total_votes</th>\n",
       "      <th>%votes</th>\n",
       "    </tr>\n",
       "  </thead>\n",
       "  <tbody>\n",
       "    <tr>\n",
       "      <th>count</th>\n",
       "      <td>497.000000</td>\n",
       "      <td>497.000000</td>\n",
       "      <td>497.000000</td>\n",
       "      <td>497.000000</td>\n",
       "    </tr>\n",
       "    <tr>\n",
       "      <th>mean</th>\n",
       "      <td>3.943662</td>\n",
       "      <td>79.887324</td>\n",
       "      <td>89.293763</td>\n",
       "      <td>0.864037</td>\n",
       "    </tr>\n",
       "    <tr>\n",
       "      <th>std</th>\n",
       "      <td>1.213518</td>\n",
       "      <td>151.519572</td>\n",
       "      <td>163.205510</td>\n",
       "      <td>0.102612</td>\n",
       "    </tr>\n",
       "    <tr>\n",
       "      <th>min</th>\n",
       "      <td>1.000000</td>\n",
       "      <td>11.000000</td>\n",
       "      <td>20.000000</td>\n",
       "      <td>0.521127</td>\n",
       "    </tr>\n",
       "    <tr>\n",
       "      <th>25%</th>\n",
       "      <td>3.000000</td>\n",
       "      <td>23.000000</td>\n",
       "      <td>26.000000</td>\n",
       "      <td>0.800000</td>\n",
       "    </tr>\n",
       "    <tr>\n",
       "      <th>50%</th>\n",
       "      <td>4.000000</td>\n",
       "      <td>34.000000</td>\n",
       "      <td>41.000000</td>\n",
       "      <td>0.888889</td>\n",
       "    </tr>\n",
       "    <tr>\n",
       "      <th>75%</th>\n",
       "      <td>5.000000</td>\n",
       "      <td>71.000000</td>\n",
       "      <td>81.000000</td>\n",
       "      <td>0.943423</td>\n",
       "    </tr>\n",
       "    <tr>\n",
       "      <th>max</th>\n",
       "      <td>5.000000</td>\n",
       "      <td>1843.000000</td>\n",
       "      <td>2042.000000</td>\n",
       "      <td>1.000000</td>\n",
       "    </tr>\n",
       "  </tbody>\n",
       "</table>\n",
       "</div>"
      ],
      "text/plain": [
       "       star_rating  helpful_votes  total_votes      %votes\n",
       "count   497.000000     497.000000   497.000000  497.000000\n",
       "mean      3.943662      79.887324    89.293763    0.864037\n",
       "std       1.213518     151.519572   163.205510    0.102612\n",
       "min       1.000000      11.000000    20.000000    0.521127\n",
       "25%       3.000000      23.000000    26.000000    0.800000\n",
       "50%       4.000000      34.000000    41.000000    0.888889\n",
       "75%       5.000000      71.000000    81.000000    0.943423\n",
       "max       5.000000    1843.000000  2042.000000    1.000000"
      ]
     },
     "execution_count": 87,
     "metadata": {},
     "output_type": "execute_result"
    }
   ],
   "source": [
    "df_vine_paid.describe()"
   ]
  },
  {
   "cell_type": "code",
   "execution_count": 86,
   "id": "5f9d3618",
   "metadata": {},
   "outputs": [
    {
     "data": {
      "text/plain": [
       "<AxesSubplot:ylabel='Density'>"
      ]
     },
     "execution_count": 86,
     "metadata": {},
     "output_type": "execute_result"
    },
    {
     "data": {
      "image/png": "[encoded data removed]",
      "text/plain": [
       "<Figure size 432x288 with 1 Axes>"
      ]
     },
     "metadata": {
      "needs_background": "light"
     },
     "output_type": "display_data"
    }
   ],
   "source": [
    "#plot df unpaid and rating \n",
    "df_vine_unpaid[\"star_rating\"].plot(kind ='density')"
   ]
  },
  {
   "cell_type": "code",
   "execution_count": 89,
   "id": "7167d57b",
   "metadata": {},
   "outputs": [
    {
     "data": {
      "text/html": [
       "<div>\n",
       "<style scoped>\n",
       "    .dataframe tbody tr th:only-of-type {\n",
       "        vertical-align: middle;\n",
       "    }\n",
       "\n",
       "    .dataframe tbody tr th {\n",
       "        vertical-align: top;\n",
       "    }\n",
       "\n",
       "    .dataframe thead th {\n",
       "        text-align: right;\n",
       "    }\n",
       "</style>\n",
       "<table border=\"1\" class=\"dataframe\">\n",
       "  <thead>\n",
       "    <tr style=\"text-align: right;\">\n",
       "      <th></th>\n",
       "      <th>review_id</th>\n",
       "      <th>star_rating</th>\n",
       "      <th>helpful_votes</th>\n",
       "      <th>total_votes</th>\n",
       "      <th>vine</th>\n",
       "      <th>verified_purchase</th>\n",
       "      <th>%votes</th>\n",
       "    </tr>\n",
       "  </thead>\n",
       "  <tbody>\n",
       "    <tr>\n",
       "      <th>99</th>\n",
       "      <td>R10H9GP2OV0G70</td>\n",
       "      <td>5</td>\n",
       "      <td>46</td>\n",
       "      <td>46</td>\n",
       "      <td>N</td>\n",
       "      <td>Y</td>\n",
       "      <td>1.000000</td>\n",
       "    </tr>\n",
       "    <tr>\n",
       "      <th>116</th>\n",
       "      <td>R10K4ODD3K8SK1</td>\n",
       "      <td>2</td>\n",
       "      <td>36</td>\n",
       "      <td>49</td>\n",
       "      <td>N</td>\n",
       "      <td>N</td>\n",
       "      <td>0.734694</td>\n",
       "    </tr>\n",
       "    <tr>\n",
       "      <th>207</th>\n",
       "      <td>R113D9FLRSOB1T</td>\n",
       "      <td>5</td>\n",
       "      <td>71</td>\n",
       "      <td>83</td>\n",
       "      <td>N</td>\n",
       "      <td>Y</td>\n",
       "      <td>0.855422</td>\n",
       "    </tr>\n",
       "    <tr>\n",
       "      <th>242</th>\n",
       "      <td>R11ARMUBPZYS</td>\n",
       "      <td>4</td>\n",
       "      <td>15</td>\n",
       "      <td>22</td>\n",
       "      <td>N</td>\n",
       "      <td>Y</td>\n",
       "      <td>0.681818</td>\n",
       "    </tr>\n",
       "    <tr>\n",
       "      <th>244</th>\n",
       "      <td>R11BD8M9OCPVM2</td>\n",
       "      <td>1</td>\n",
       "      <td>15</td>\n",
       "      <td>24</td>\n",
       "      <td>N</td>\n",
       "      <td>N</td>\n",
       "      <td>0.625000</td>\n",
       "    </tr>\n",
       "  </tbody>\n",
       "</table>\n",
       "</div>"
      ],
      "text/plain": [
       "          review_id  star_rating  helpful_votes  total_votes vine  \\\n",
       "99   R10H9GP2OV0G70            5             46           46    N   \n",
       "116  R10K4ODD3K8SK1            2             36           49    N   \n",
       "207  R113D9FLRSOB1T            5             71           83    N   \n",
       "242    R11ARMUBPZYS            4             15           22    N   \n",
       "244  R11BD8M9OCPVM2            1             15           24    N   \n",
       "\n",
       "    verified_purchase    %votes  \n",
       "99                  Y  1.000000  \n",
       "116                 N  0.734694  \n",
       "207                 Y  0.855422  \n",
       "242                 Y  0.681818  \n",
       "244                 N  0.625000  "
      ]
     },
     "execution_count": 89,
     "metadata": {},
     "output_type": "execute_result"
    }
   ],
   "source": [
    "df_vine_unpaid.head(5)"
   ]
  },
  {
   "cell_type": "code",
   "execution_count": 88,
   "id": "1cfbd840",
   "metadata": {},
   "outputs": [
    {
     "data": {
      "text/html": [
       "<div>\n",
       "<style scoped>\n",
       "    .dataframe tbody tr th:only-of-type {\n",
       "        vertical-align: middle;\n",
       "    }\n",
       "\n",
       "    .dataframe tbody tr th {\n",
       "        vertical-align: top;\n",
       "    }\n",
       "\n",
       "    .dataframe thead th {\n",
       "        text-align: right;\n",
       "    }\n",
       "</style>\n",
       "<table border=\"1\" class=\"dataframe\">\n",
       "  <thead>\n",
       "    <tr style=\"text-align: right;\">\n",
       "      <th></th>\n",
       "      <th>star_rating</th>\n",
       "      <th>helpful_votes</th>\n",
       "      <th>total_votes</th>\n",
       "      <th>%votes</th>\n",
       "    </tr>\n",
       "  </thead>\n",
       "  <tbody>\n",
       "    <tr>\n",
       "      <th>count</th>\n",
       "      <td>120825.000000</td>\n",
       "      <td>120825.000000</td>\n",
       "      <td>120825.000000</td>\n",
       "      <td>120825.000000</td>\n",
       "    </tr>\n",
       "    <tr>\n",
       "      <th>mean</th>\n",
       "      <td>3.945682</td>\n",
       "      <td>52.800497</td>\n",
       "      <td>60.174194</td>\n",
       "      <td>0.859185</td>\n",
       "    </tr>\n",
       "    <tr>\n",
       "      <th>std</th>\n",
       "      <td>1.556849</td>\n",
       "      <td>135.640773</td>\n",
       "      <td>143.176131</td>\n",
       "      <td>0.113466</td>\n",
       "    </tr>\n",
       "    <tr>\n",
       "      <th>min</th>\n",
       "      <td>1.000000</td>\n",
       "      <td>10.000000</td>\n",
       "      <td>20.000000</td>\n",
       "      <td>0.500000</td>\n",
       "    </tr>\n",
       "    <tr>\n",
       "      <th>25%</th>\n",
       "      <td>3.000000</td>\n",
       "      <td>21.000000</td>\n",
       "      <td>25.000000</td>\n",
       "      <td>0.794872</td>\n",
       "    </tr>\n",
       "    <tr>\n",
       "      <th>50%</th>\n",
       "      <td>5.000000</td>\n",
       "      <td>29.000000</td>\n",
       "      <td>34.000000</td>\n",
       "      <td>0.888889</td>\n",
       "    </tr>\n",
       "    <tr>\n",
       "      <th>75%</th>\n",
       "      <td>5.000000</td>\n",
       "      <td>50.000000</td>\n",
       "      <td>57.000000</td>\n",
       "      <td>0.950000</td>\n",
       "    </tr>\n",
       "    <tr>\n",
       "      <th>max</th>\n",
       "      <td>5.000000</td>\n",
       "      <td>16401.000000</td>\n",
       "      <td>17182.000000</td>\n",
       "      <td>1.000000</td>\n",
       "    </tr>\n",
       "  </tbody>\n",
       "</table>\n",
       "</div>"
      ],
      "text/plain": [
       "         star_rating  helpful_votes    total_votes         %votes\n",
       "count  120825.000000  120825.000000  120825.000000  120825.000000\n",
       "mean        3.945682      52.800497      60.174194       0.859185\n",
       "std         1.556849     135.640773     143.176131       0.113466\n",
       "min         1.000000      10.000000      20.000000       0.500000\n",
       "25%         3.000000      21.000000      25.000000       0.794872\n",
       "50%         5.000000      29.000000      34.000000       0.888889\n",
       "75%         5.000000      50.000000      57.000000       0.950000\n",
       "max         5.000000   16401.000000   17182.000000       1.000000"
      ]
     },
     "execution_count": 88,
     "metadata": {},
     "output_type": "execute_result"
    }
   ],
   "source": [
    "df_vine_unpaid.describe()"
   ]
  },
  {
   "cell_type": "code",
   "execution_count": null,
   "id": "5525d8d6",
   "metadata": {},
   "outputs": [],
   "source": []
  }
 ],
 "metadata": {
  "kernelspec": {
   "display_name": "PythonData",
   "language": "python",
   "name": "pythondata"
  },
  "language_info": {
   "codemirror_mode": {
    "name": "ipython",
    "version": 3
   },
   "file_extension": ".py",
   "mimetype": "text/x-python",
   "name": "python",
   "nbconvert_exporter": "python",
   "pygments_lexer": "ipython3",
   "version": "3.8.8"
  }
 },
 "nbformat": 4,
 "nbformat_minor": 5
}
